{
 "cells": [
  {
   "cell_type": "code",
   "execution_count": 1,
   "metadata": {},
   "outputs": [],
   "source": [
    "import numpy as np\n",
    "import pandas as pd\n",
    "import matplotlib.pyplot as plt"
   ]
  },
  {
   "cell_type": "code",
   "execution_count": 2,
   "metadata": {},
   "outputs": [
    {
     "data": {
      "text/plain": [
       "2.718281828459045"
      ]
     },
     "execution_count": 2,
     "metadata": {},
     "output_type": "execute_result"
    }
   ],
   "source": [
    "np.e"
   ]
  },
  {
   "cell_type": "code",
   "execution_count": 3,
   "metadata": {},
   "outputs": [
    {
     "data": {
      "text/plain": [
       "4"
      ]
     },
     "execution_count": 3,
     "metadata": {},
     "output_type": "execute_result"
    }
   ],
   "source": [
    "12//3#整除\n"
   ]
  },
  {
   "cell_type": "code",
   "execution_count": 4,
   "metadata": {},
   "outputs": [
    {
     "data": {
      "text/plain": [
       "False"
      ]
     },
     "execution_count": 4,
     "metadata": {},
     "output_type": "execute_result"
    }
   ],
   "source": [
    "True and False"
   ]
  },
  {
   "cell_type": "code",
   "execution_count": 5,
   "metadata": {},
   "outputs": [],
   "source": [
    "a=\"我爱好美女\""
   ]
  },
  {
   "cell_type": "code",
   "execution_count": 6,
   "metadata": {},
   "outputs": [
    {
     "data": {
      "text/plain": [
       "'我爱好美女我爱好美女我爱好美女'"
      ]
     },
     "execution_count": 6,
     "metadata": {},
     "output_type": "execute_result"
    }
   ],
   "source": [
    "a*3\n"
   ]
  },
  {
   "cell_type": "code",
   "execution_count": 7,
   "metadata": {},
   "outputs": [
    {
     "data": {
      "text/plain": [
       "str"
      ]
     },
     "execution_count": 7,
     "metadata": {},
     "output_type": "execute_result"
    }
   ],
   "source": [
    "#还可以拼接\n",
    "type(a)"
   ]
  },
  {
   "cell_type": "code",
   "execution_count": 8,
   "metadata": {},
   "outputs": [],
   "source": [
    "None"
   ]
  },
  {
   "cell_type": "code",
   "execution_count": 9,
   "metadata": {},
   "outputs": [
    {
     "data": {
      "text/plain": [
       "-inf"
      ]
     },
     "execution_count": 9,
     "metadata": {},
     "output_type": "execute_result"
    }
   ],
   "source": [
    "float('-inf')#负无穷"
   ]
  },
  {
   "cell_type": "code",
   "execution_count": 10,
   "metadata": {},
   "outputs": [
    {
     "data": {
      "text/plain": [
       "nan"
      ]
     },
     "execution_count": 10,
     "metadata": {},
     "output_type": "execute_result"
    }
   ],
   "source": [
    "float('-inf')+float('inf')"
   ]
  },
  {
   "cell_type": "code",
   "execution_count": 11,
   "metadata": {},
   "outputs": [],
   "source": [
    "import numpy as np\n",
    "import pandas as pd\n",
    "import matplotlib.pyplot as plt\n",
    "import scipy.io as sio\n",
    "from scipy.optimize import minimize\n",
    "from sklearn.metrics import classification_report#这个包是评价报告"
   ]
  },
  {
   "cell_type": "code",
   "execution_count": 12,
   "metadata": {},
   "outputs": [],
   "source": [
    "train=pd.read_csv(r'F:\\h\\kaggle\\train.csv')\n",
    "test=pd.read_csv(r'F:\\h\\kaggle\\test.csv')"
   ]
  },
  {
   "cell_type": "code",
   "execution_count": 14,
   "metadata": {},
   "outputs": [],
   "source": [
    "data=pd.read_csv('F:\\h\\福大第一学期数据\\TABLE33219.csv')"
   ]
  },
  {
   "cell_type": "code",
   "execution_count": 15,
   "metadata": {},
   "outputs": [
    {
     "data": {
      "text/html": [
       "<div>\n",
       "<style scoped>\n",
       "    .dataframe tbody tr th:only-of-type {\n",
       "        vertical-align: middle;\n",
       "    }\n",
       "\n",
       "    .dataframe tbody tr th {\n",
       "        vertical-align: top;\n",
       "    }\n",
       "\n",
       "    .dataframe thead th {\n",
       "        text-align: right;\n",
       "    }\n",
       "</style>\n",
       "<table border=\"1\" class=\"dataframe\">\n",
       "  <thead>\n",
       "    <tr style=\"text-align: right;\">\n",
       "      <th></th>\n",
       "      <th>PassengerId</th>\n",
       "      <th>Survived</th>\n",
       "      <th>Pclass</th>\n",
       "      <th>Name</th>\n",
       "      <th>Sex</th>\n",
       "      <th>Age</th>\n",
       "      <th>SibSp</th>\n",
       "      <th>Parch</th>\n",
       "      <th>Ticket</th>\n",
       "      <th>Fare</th>\n",
       "      <th>Cabin</th>\n",
       "      <th>Embarked</th>\n",
       "    </tr>\n",
       "  </thead>\n",
       "  <tbody>\n",
       "    <tr>\n",
       "      <th>0</th>\n",
       "      <td>1</td>\n",
       "      <td>0</td>\n",
       "      <td>3</td>\n",
       "      <td>Braund, Mr. Owen Harris</td>\n",
       "      <td>male</td>\n",
       "      <td>22.0</td>\n",
       "      <td>1</td>\n",
       "      <td>0</td>\n",
       "      <td>A/5 21171</td>\n",
       "      <td>7.2500</td>\n",
       "      <td>NaN</td>\n",
       "      <td>S</td>\n",
       "    </tr>\n",
       "    <tr>\n",
       "      <th>1</th>\n",
       "      <td>2</td>\n",
       "      <td>1</td>\n",
       "      <td>1</td>\n",
       "      <td>Cumings, Mrs. John Bradley (Florence Briggs Th...</td>\n",
       "      <td>female</td>\n",
       "      <td>38.0</td>\n",
       "      <td>1</td>\n",
       "      <td>0</td>\n",
       "      <td>PC 17599</td>\n",
       "      <td>71.2833</td>\n",
       "      <td>C85</td>\n",
       "      <td>C</td>\n",
       "    </tr>\n",
       "    <tr>\n",
       "      <th>2</th>\n",
       "      <td>3</td>\n",
       "      <td>1</td>\n",
       "      <td>3</td>\n",
       "      <td>Heikkinen, Miss. Laina</td>\n",
       "      <td>female</td>\n",
       "      <td>26.0</td>\n",
       "      <td>0</td>\n",
       "      <td>0</td>\n",
       "      <td>STON/O2. 3101282</td>\n",
       "      <td>7.9250</td>\n",
       "      <td>NaN</td>\n",
       "      <td>S</td>\n",
       "    </tr>\n",
       "    <tr>\n",
       "      <th>3</th>\n",
       "      <td>4</td>\n",
       "      <td>1</td>\n",
       "      <td>1</td>\n",
       "      <td>Futrelle, Mrs. Jacques Heath (Lily May Peel)</td>\n",
       "      <td>female</td>\n",
       "      <td>35.0</td>\n",
       "      <td>1</td>\n",
       "      <td>0</td>\n",
       "      <td>113803</td>\n",
       "      <td>53.1000</td>\n",
       "      <td>C123</td>\n",
       "      <td>S</td>\n",
       "    </tr>\n",
       "    <tr>\n",
       "      <th>4</th>\n",
       "      <td>5</td>\n",
       "      <td>0</td>\n",
       "      <td>3</td>\n",
       "      <td>Allen, Mr. William Henry</td>\n",
       "      <td>male</td>\n",
       "      <td>35.0</td>\n",
       "      <td>0</td>\n",
       "      <td>0</td>\n",
       "      <td>373450</td>\n",
       "      <td>8.0500</td>\n",
       "      <td>NaN</td>\n",
       "      <td>S</td>\n",
       "    </tr>\n",
       "  </tbody>\n",
       "</table>\n",
       "</div>"
      ],
      "text/plain": [
       "   PassengerId  Survived  Pclass  \\\n",
       "0            1         0       3   \n",
       "1            2         1       1   \n",
       "2            3         1       3   \n",
       "3            4         1       1   \n",
       "4            5         0       3   \n",
       "\n",
       "                                                Name     Sex   Age  SibSp  \\\n",
       "0                            Braund, Mr. Owen Harris    male  22.0      1   \n",
       "1  Cumings, Mrs. John Bradley (Florence Briggs Th...  female  38.0      1   \n",
       "2                             Heikkinen, Miss. Laina  female  26.0      0   \n",
       "3       Futrelle, Mrs. Jacques Heath (Lily May Peel)  female  35.0      1   \n",
       "4                           Allen, Mr. William Henry    male  35.0      0   \n",
       "\n",
       "   Parch            Ticket     Fare Cabin Embarked  \n",
       "0      0         A/5 21171   7.2500   NaN        S  \n",
       "1      0          PC 17599  71.2833   C85        C  \n",
       "2      0  STON/O2. 3101282   7.9250   NaN        S  \n",
       "3      0            113803  53.1000  C123        S  \n",
       "4      0            373450   8.0500   NaN        S  "
      ]
     },
     "execution_count": 15,
     "metadata": {},
     "output_type": "execute_result"
    }
   ],
   "source": [
    "train.head()"
   ]
  },
  {
   "cell_type": "code",
   "execution_count": 16,
   "metadata": {},
   "outputs": [
    {
     "data": {
      "text/plain": [
       "Pclass  Sex   \n",
       "1       female    0.968085\n",
       "        male      0.368852\n",
       "2       female    0.921053\n",
       "        male      0.157407\n",
       "3       female    0.500000\n",
       "        male      0.135447\n",
       "Name: Survived, dtype: float64"
      ]
     },
     "execution_count": 16,
     "metadata": {},
     "output_type": "execute_result"
    }
   ],
   "source": [
    "train['Survived'].groupby([train['Pclass'],train['Sex']]).mean()"
   ]
  },
  {
   "cell_type": "code",
   "execution_count": 17,
   "metadata": {},
   "outputs": [
    {
     "data": {
      "text/html": [
       "<div>\n",
       "<style scoped>\n",
       "    .dataframe tbody tr th:only-of-type {\n",
       "        vertical-align: middle;\n",
       "    }\n",
       "\n",
       "    .dataframe tbody tr th {\n",
       "        vertical-align: top;\n",
       "    }\n",
       "\n",
       "    .dataframe thead th {\n",
       "        text-align: right;\n",
       "    }\n",
       "</style>\n",
       "<table border=\"1\" class=\"dataframe\">\n",
       "  <thead>\n",
       "    <tr style=\"text-align: right;\">\n",
       "      <th></th>\n",
       "      <th>ID</th>\n",
       "      <th>JSZH</th>\n",
       "      <th>WFDZ</th>\n",
       "      <th>WFNR</th>\n",
       "      <th>CLSJ</th>\n",
       "      <th>JKBJ</th>\n",
       "      <th>WFSJ</th>\n",
       "      <th>WFBH</th>\n",
       "    </tr>\n",
       "  </thead>\n",
       "  <tbody>\n",
       "    <tr>\n",
       "      <th>0</th>\n",
       "      <td>0000348969E67364B1B617DC8C27175B</td>\n",
       "      <td>350111197001230411</td>\n",
       "      <td>卢滨路金洲路口北向</td>\n",
       "      <td>在高速公路或城市快速路以外的道路上行驶时，驾驶人未按规定使用安全带的</td>\n",
       "      <td>2017/10/11 11:24:40</td>\n",
       "      <td>1</td>\n",
       "      <td>2017/10/7 17:20:10</td>\n",
       "      <td>3501022017121431017431</td>\n",
       "    </tr>\n",
       "    <tr>\n",
       "      <th>1</th>\n",
       "      <td>00003DD66542E4FFBED40D44BE3149EA</td>\n",
       "      <td>350303199208311016</td>\n",
       "      <td>华林路五四路口</td>\n",
       "      <td>非机动车未在非机动车道内行驶</td>\n",
       "      <td>2017/11/29 9:45:00</td>\n",
       "      <td>1</td>\n",
       "      <td>2017/11/29 9:45:00</td>\n",
       "      <td>3501022017121351655271</td>\n",
       "    </tr>\n",
       "    <tr>\n",
       "      <th>2</th>\n",
       "      <td>000059588C9529CFD4E22CFC7FE741AD</td>\n",
       "      <td>350111197012110597</td>\n",
       "      <td>省妇幼保健院口监控范围</td>\n",
       "      <td>机动车违反禁令标志指示的</td>\n",
       "      <td>2017/5/2 9:42:49</td>\n",
       "      <td>已交款</td>\n",
       "      <td>2017/4/18 8:44:55</td>\n",
       "      <td>3501032017131415254381</td>\n",
       "    </tr>\n",
       "    <tr>\n",
       "      <th>3</th>\n",
       "      <td>000062455B2719AAEBE31CBE64E69B2B</td>\n",
       "      <td>230281199910290928</td>\n",
       "      <td>北二环路华林路口</td>\n",
       "      <td>实行登记的非机动车违反规定载人的</td>\n",
       "      <td>2017/9/20 16:38:00</td>\n",
       "      <td>0</td>\n",
       "      <td>2017/9/20 16:38:00</td>\n",
       "      <td>3501112017111350640451</td>\n",
       "    </tr>\n",
       "    <tr>\n",
       "      <th>4</th>\n",
       "      <td>0000682BA564A316898B4525A0309A37</td>\n",
       "      <td>360735199109121932</td>\n",
       "      <td>南江滨路（鳌峰大桥下至鼓山大桥下）</td>\n",
       "      <td>非机动车未在非机动车道内行驶</td>\n",
       "      <td>2017/10/27 10:02:00</td>\n",
       "      <td>1</td>\n",
       "      <td>2017/10/27 10:02:00</td>\n",
       "      <td>3501042017141350874361</td>\n",
       "    </tr>\n",
       "  </tbody>\n",
       "</table>\n",
       "</div>"
      ],
      "text/plain": [
       "                                 ID                JSZH               WFDZ  \\\n",
       "0  0000348969E67364B1B617DC8C27175B  350111197001230411          卢滨路金洲路口北向   \n",
       "1  00003DD66542E4FFBED40D44BE3149EA  350303199208311016            华林路五四路口   \n",
       "2  000059588C9529CFD4E22CFC7FE741AD  350111197012110597        省妇幼保健院口监控范围   \n",
       "3  000062455B2719AAEBE31CBE64E69B2B  230281199910290928           北二环路华林路口   \n",
       "4  0000682BA564A316898B4525A0309A37  360735199109121932  南江滨路（鳌峰大桥下至鼓山大桥下）   \n",
       "\n",
       "                                 WFNR                 CLSJ JKBJ  \\\n",
       "0  在高速公路或城市快速路以外的道路上行驶时，驾驶人未按规定使用安全带的  2017/10/11 11:24:40    1   \n",
       "1                      非机动车未在非机动车道内行驶   2017/11/29 9:45:00    1   \n",
       "2                        机动车违反禁令标志指示的     2017/5/2 9:42:49  已交款   \n",
       "3                    实行登记的非机动车违反规定载人的   2017/9/20 16:38:00    0   \n",
       "4                      非机动车未在非机动车道内行驶  2017/10/27 10:02:00    1   \n",
       "\n",
       "                  WFSJ                    WFBH  \n",
       "0   2017/10/7 17:20:10  3501022017121431017431  \n",
       "1   2017/11/29 9:45:00  3501022017121351655271  \n",
       "2    2017/4/18 8:44:55  3501032017131415254381  \n",
       "3   2017/9/20 16:38:00  3501112017111350640451  \n",
       "4  2017/10/27 10:02:00  3501042017141350874361  "
      ]
     },
     "execution_count": 17,
     "metadata": {},
     "output_type": "execute_result"
    }
   ],
   "source": [
    "data.head()"
   ]
  },
  {
   "cell_type": "code",
   "execution_count": 18,
   "metadata": {},
   "outputs": [],
   "source": [
    "#处理时间特征\n",
    "data['WFSJ'] = pd.to_datetime(data['WFSJ'],format='%Y-%m-%d %H:%M:%S')\n",
    "data[\"weekday\"]=data[\"WFSJ\"].dt.weekday\n",
    "data[\"year\"]=data[\"WFSJ\"].dt.year\n",
    "data[\"quarter\"]=data[\"WFSJ\"].dt.quarter\n",
    "data[\"hour\"]=data[\"WFSJ\"].dt.hour\n",
    "data[\"month\"]=data[\"WFSJ\"].dt.month\n",
    "data[\"day\"]=data[\"WFSJ\"].dt.day"
   ]
  },
  {
   "cell_type": "code",
   "execution_count": 19,
   "metadata": {},
   "outputs": [],
   "source": [
    "import os\n",
    "os.chdir(r'F:\\h\\kaggle')#工作路径改为当前"
   ]
  },
  {
   "cell_type": "code",
   "execution_count": 20,
   "metadata": {},
   "outputs": [
    {
     "data": {
      "text/html": [
       "<div>\n",
       "<style scoped>\n",
       "    .dataframe tbody tr th:only-of-type {\n",
       "        vertical-align: middle;\n",
       "    }\n",
       "\n",
       "    .dataframe tbody tr th {\n",
       "        vertical-align: top;\n",
       "    }\n",
       "\n",
       "    .dataframe thead th {\n",
       "        text-align: right;\n",
       "    }\n",
       "</style>\n",
       "<table border=\"1\" class=\"dataframe\">\n",
       "  <thead>\n",
       "    <tr style=\"text-align: right;\">\n",
       "      <th></th>\n",
       "      <th>ID</th>\n",
       "      <th>JSZH</th>\n",
       "      <th>WFDZ</th>\n",
       "      <th>WFNR</th>\n",
       "      <th>CLSJ</th>\n",
       "      <th>JKBJ</th>\n",
       "      <th>WFSJ</th>\n",
       "      <th>WFBH</th>\n",
       "      <th>weekday</th>\n",
       "      <th>year</th>\n",
       "      <th>quarter</th>\n",
       "      <th>hour</th>\n",
       "      <th>month</th>\n",
       "      <th>day</th>\n",
       "    </tr>\n",
       "  </thead>\n",
       "  <tbody>\n",
       "    <tr>\n",
       "      <th>1059965</th>\n",
       "      <td>SIRC-sgat-25699877t-20170220-3-0005170</td>\n",
       "      <td>无</td>\n",
       "      <td>南二环路（鹭岭路至浦上大道）</td>\n",
       "      <td>非机动车未在非机动车道内行驶</td>\n",
       "      <td>2017/1/26 8:41:00</td>\n",
       "      <td>已交款</td>\n",
       "      <td>2017-01-26 08:41:00</td>\n",
       "      <td>3501042017141350280121</td>\n",
       "      <td>3</td>\n",
       "      <td>2017</td>\n",
       "      <td>1</td>\n",
       "      <td>8</td>\n",
       "      <td>1</td>\n",
       "      <td>26</td>\n",
       "    </tr>\n",
       "    <tr>\n",
       "      <th>1059966</th>\n",
       "      <td>SIRC-sgat-25699877t-20170220-3-0005171</td>\n",
       "      <td>无</td>\n",
       "      <td>南二环路（鹭岭路至浦上大道）</td>\n",
       "      <td>非机动车未在非机动车道内行驶</td>\n",
       "      <td>2017/1/26 8:41:00</td>\n",
       "      <td>已交款</td>\n",
       "      <td>2017-01-26 08:41:00</td>\n",
       "      <td>3501042017141350280131</td>\n",
       "      <td>3</td>\n",
       "      <td>2017</td>\n",
       "      <td>1</td>\n",
       "      <td>8</td>\n",
       "      <td>1</td>\n",
       "      <td>26</td>\n",
       "    </tr>\n",
       "    <tr>\n",
       "      <th>1059967</th>\n",
       "      <td>SIRC-sgat-25699877t-20170220-3-0005172</td>\n",
       "      <td>无</td>\n",
       "      <td>南二环路（鹭岭路至浦上大道）</td>\n",
       "      <td>非机动车未在非机动车道内行驶</td>\n",
       "      <td>2017/1/26 8:41:00</td>\n",
       "      <td>已交款</td>\n",
       "      <td>2017-01-26 08:41:00</td>\n",
       "      <td>3501042017141350280111</td>\n",
       "      <td>3</td>\n",
       "      <td>2017</td>\n",
       "      <td>1</td>\n",
       "      <td>8</td>\n",
       "      <td>1</td>\n",
       "      <td>26</td>\n",
       "    </tr>\n",
       "    <tr>\n",
       "      <th>1059968</th>\n",
       "      <td>SIRC-sgat-25699877t-20170220-3-0005174</td>\n",
       "      <td>352227197701114516</td>\n",
       "      <td>八一七路仁德路口东向</td>\n",
       "      <td>机动车驾驶人违反指示标志、标线通行</td>\n",
       "      <td>2017/1/30 20:46:21</td>\n",
       "      <td>已交款</td>\n",
       "      <td>2017-01-26 08:41:20</td>\n",
       "      <td>3501002017101902194871</td>\n",
       "      <td>3</td>\n",
       "      <td>2017</td>\n",
       "      <td>1</td>\n",
       "      <td>8</td>\n",
       "      <td>1</td>\n",
       "      <td>26</td>\n",
       "    </tr>\n",
       "    <tr>\n",
       "      <th>1059969</th>\n",
       "      <td>SIRC-sgat-25699877t-20170220-3-0005175</td>\n",
       "      <td>650300197208155415</td>\n",
       "      <td>福飞路新园路口南向</td>\n",
       "      <td>机动车通过有灯控路口时，不按所需行进方向驶入导向车道</td>\n",
       "      <td>2017/2/3 15:09:45</td>\n",
       "      <td>已交款</td>\n",
       "      <td>2017-01-26 08:41:25</td>\n",
       "      <td>3501022017121426801941</td>\n",
       "      <td>3</td>\n",
       "      <td>2017</td>\n",
       "      <td>1</td>\n",
       "      <td>8</td>\n",
       "      <td>1</td>\n",
       "      <td>26</td>\n",
       "    </tr>\n",
       "  </tbody>\n",
       "</table>\n",
       "</div>"
      ],
      "text/plain": [
       "                                             ID                JSZH  \\\n",
       "1059965  SIRC-sgat-25699877t-20170220-3-0005170                   无   \n",
       "1059966  SIRC-sgat-25699877t-20170220-3-0005171                   无   \n",
       "1059967  SIRC-sgat-25699877t-20170220-3-0005172                   无   \n",
       "1059968  SIRC-sgat-25699877t-20170220-3-0005174  352227197701114516   \n",
       "1059969  SIRC-sgat-25699877t-20170220-3-0005175  650300197208155415   \n",
       "\n",
       "                   WFDZ                        WFNR                CLSJ JKBJ  \\\n",
       "1059965  南二环路（鹭岭路至浦上大道）              非机动车未在非机动车道内行驶   2017/1/26 8:41:00  已交款   \n",
       "1059966  南二环路（鹭岭路至浦上大道）              非机动车未在非机动车道内行驶   2017/1/26 8:41:00  已交款   \n",
       "1059967  南二环路（鹭岭路至浦上大道）              非机动车未在非机动车道内行驶   2017/1/26 8:41:00  已交款   \n",
       "1059968      八一七路仁德路口东向           机动车驾驶人违反指示标志、标线通行  2017/1/30 20:46:21  已交款   \n",
       "1059969       福飞路新园路口南向  机动车通过有灯控路口时，不按所需行进方向驶入导向车道   2017/2/3 15:09:45  已交款   \n",
       "\n",
       "                       WFSJ                    WFBH  weekday  year  quarter  \\\n",
       "1059965 2017-01-26 08:41:00  3501042017141350280121        3  2017        1   \n",
       "1059966 2017-01-26 08:41:00  3501042017141350280131        3  2017        1   \n",
       "1059967 2017-01-26 08:41:00  3501042017141350280111        3  2017        1   \n",
       "1059968 2017-01-26 08:41:20  3501002017101902194871        3  2017        1   \n",
       "1059969 2017-01-26 08:41:25  3501022017121426801941        3  2017        1   \n",
       "\n",
       "         hour  month  day  \n",
       "1059965     8      1   26  \n",
       "1059966     8      1   26  \n",
       "1059967     8      1   26  \n",
       "1059968     8      1   26  \n",
       "1059969     8      1   26  "
      ]
     },
     "execution_count": 20,
     "metadata": {},
     "output_type": "execute_result"
    }
   ],
   "source": [
    "data.tail(5)"
   ]
  },
  {
   "cell_type": "code",
   "execution_count": 21,
   "metadata": {},
   "outputs": [
    {
     "data": {
      "text/plain": [
       "14839580"
      ]
     },
     "execution_count": 21,
     "metadata": {},
     "output_type": "execute_result"
    }
   ],
   "source": [
    "data.size"
   ]
  },
  {
   "cell_type": "code",
   "execution_count": 22,
   "metadata": {},
   "outputs": [
    {
     "data": {
      "text/html": [
       "<div>\n",
       "<style scoped>\n",
       "    .dataframe tbody tr th:only-of-type {\n",
       "        vertical-align: middle;\n",
       "    }\n",
       "\n",
       "    .dataframe tbody tr th {\n",
       "        vertical-align: top;\n",
       "    }\n",
       "\n",
       "    .dataframe thead th {\n",
       "        text-align: right;\n",
       "    }\n",
       "</style>\n",
       "<table border=\"1\" class=\"dataframe\">\n",
       "  <thead>\n",
       "    <tr style=\"text-align: right;\">\n",
       "      <th></th>\n",
       "      <th>ID</th>\n",
       "      <th>JSZH</th>\n",
       "      <th>WFNR</th>\n",
       "    </tr>\n",
       "  </thead>\n",
       "  <tbody>\n",
       "    <tr>\n",
       "      <th>0</th>\n",
       "      <td>0000348969E67364B1B617DC8C27175B</td>\n",
       "      <td>350111197001230411</td>\n",
       "      <td>在高速公路或城市快速路以外的道路上行驶时，驾驶人未按规定使用安全带的</td>\n",
       "    </tr>\n",
       "    <tr>\n",
       "      <th>1</th>\n",
       "      <td>00003DD66542E4FFBED40D44BE3149EA</td>\n",
       "      <td>350303199208311016</td>\n",
       "      <td>非机动车未在非机动车道内行驶</td>\n",
       "    </tr>\n",
       "    <tr>\n",
       "      <th>2</th>\n",
       "      <td>000059588C9529CFD4E22CFC7FE741AD</td>\n",
       "      <td>350111197012110597</td>\n",
       "      <td>机动车违反禁令标志指示的</td>\n",
       "    </tr>\n",
       "    <tr>\n",
       "      <th>3</th>\n",
       "      <td>000062455B2719AAEBE31CBE64E69B2B</td>\n",
       "      <td>230281199910290928</td>\n",
       "      <td>实行登记的非机动车违反规定载人的</td>\n",
       "    </tr>\n",
       "    <tr>\n",
       "      <th>4</th>\n",
       "      <td>0000682BA564A316898B4525A0309A37</td>\n",
       "      <td>360735199109121932</td>\n",
       "      <td>非机动车未在非机动车道内行驶</td>\n",
       "    </tr>\n",
       "    <tr>\n",
       "      <th>5</th>\n",
       "      <td>00007DFE12DD217EDC96BB6E537B9132</td>\n",
       "      <td>350783198204040238</td>\n",
       "      <td>汽车在道路上违反规定停放且驾驶人不在现场，妨碍其他车辆、行人通行的</td>\n",
       "    </tr>\n",
       "    <tr>\n",
       "      <th>6</th>\n",
       "      <td>00008D3E2101403076815E3D0AB5B769</td>\n",
       "      <td>612301196810020421</td>\n",
       "      <td>机动车违反禁令标志指示的</td>\n",
       "    </tr>\n",
       "    <tr>\n",
       "      <th>7</th>\n",
       "      <td>0000A0D68F07258DADE746E06EBFAA5D</td>\n",
       "      <td>513030199905184257</td>\n",
       "      <td>实行登记的非机动车未悬挂或者未按规定悬挂非机动车号牌的</td>\n",
       "    </tr>\n",
       "    <tr>\n",
       "      <th>8</th>\n",
       "      <td>0000AB4664458105D777E57FC4F9CD43</td>\n",
       "      <td>350121198710274238</td>\n",
       "      <td>汽车在道路上违反规定停放且驾驶人不在现场，妨碍其他车辆、行人通行的</td>\n",
       "    </tr>\n",
       "    <tr>\n",
       "      <th>9</th>\n",
       "      <td>0000B0D821BB03CE1E934FD7967C7C04</td>\n",
       "      <td>513030197306013713</td>\n",
       "      <td>非机动车未在非机动车道内行驶</td>\n",
       "    </tr>\n",
       "    <tr>\n",
       "      <th>10</th>\n",
       "      <td>0000CB0256AAB619609D21D5F84BFC69</td>\n",
       "      <td>无</td>\n",
       "      <td>行人违反交通信号通行</td>\n",
       "    </tr>\n",
       "    <tr>\n",
       "      <th>11</th>\n",
       "      <td>0000D09C548DFA212FA2075381EF8DE8</td>\n",
       "      <td>420222198801201034</td>\n",
       "      <td>在高速公路或城市快速路以外的道路上行驶时，驾驶人未按规定使用安全带的</td>\n",
       "    </tr>\n",
       "    <tr>\n",
       "      <th>12</th>\n",
       "      <td>0000E62136EEDF21AEACDF63347370EA</td>\n",
       "      <td>350102197306030406</td>\n",
       "      <td>机动车违反规定使用专用车道</td>\n",
       "    </tr>\n",
       "    <tr>\n",
       "      <th>13</th>\n",
       "      <td>0000F8618F153D18E374A6F89E987197</td>\n",
       "      <td>350784198805273711</td>\n",
       "      <td>非机动车未在非机动车道内行驶</td>\n",
       "    </tr>\n",
       "    <tr>\n",
       "      <th>14</th>\n",
       "      <td>000103CC6D3E4A58D0665C076628584A</td>\n",
       "      <td>440184198110034510</td>\n",
       "      <td>机动车驾驶人违反指示标志、标线通行</td>\n",
       "    </tr>\n",
       "    <tr>\n",
       "      <th>15</th>\n",
       "      <td>00012AB82D581EC42F759742BBC4371C</td>\n",
       "      <td>341222198712268756</td>\n",
       "      <td>实行登记的非机动车违反规定载人的</td>\n",
       "    </tr>\n",
       "    <tr>\n",
       "      <th>16</th>\n",
       "      <td>0001343DE62459EEF41BC6A96BF610EF</td>\n",
       "      <td>350111196912140447</td>\n",
       "      <td>行人违反交通信号通行</td>\n",
       "    </tr>\n",
       "    <tr>\n",
       "      <th>17</th>\n",
       "      <td>000135E9E3266DBFC93952942F26FEBB</td>\n",
       "      <td>610102196812030336</td>\n",
       "      <td>机动车通过有灯控路口时，不按所需行进方向驶入导向车道</td>\n",
       "    </tr>\n",
       "    <tr>\n",
       "      <th>18</th>\n",
       "      <td>0001393E08139833B7DBA9587CC4304C</td>\n",
       "      <td>350182197712182618</td>\n",
       "      <td>汽车在道路上违反规定停放且驾驶人不在现场，妨碍其他车辆、行人通行的</td>\n",
       "    </tr>\n",
       "    <tr>\n",
       "      <th>19</th>\n",
       "      <td>00014DBCB6201E00D78B2C0FF291FBA1</td>\n",
       "      <td>35012219761202371X</td>\n",
       "      <td>驾驶机动车违反道路交通信号灯通行的</td>\n",
       "    </tr>\n",
       "    <tr>\n",
       "      <th>20</th>\n",
       "      <td>000150DA20229F9F92F29F9612B30C37</td>\n",
       "      <td>350121198806104217</td>\n",
       "      <td>机动车驾驶人违反指示标志、标线通行</td>\n",
       "    </tr>\n",
       "    <tr>\n",
       "      <th>21</th>\n",
       "      <td>000185A7463DA83EB36B0501B56F8AF5</td>\n",
       "      <td>350102195302250330</td>\n",
       "      <td>汽车在道路上违反规定停放且驾驶人不在现场，妨碍其他车辆、行人通行的</td>\n",
       "    </tr>\n",
       "    <tr>\n",
       "      <th>22</th>\n",
       "      <td>0001880165B8622B8AB0E8FDC6A24C81</td>\n",
       "      <td>350128199409264312</td>\n",
       "      <td>非机动车未在非机动车道内行驶</td>\n",
       "    </tr>\n",
       "    <tr>\n",
       "      <th>23</th>\n",
       "      <td>00018BA0E38088FDF2271FD96687B568</td>\n",
       "      <td>352227198702143559</td>\n",
       "      <td>汽车在道路上违反规定停放且驾驶人不在现场，妨碍其他车辆、行人通行的</td>\n",
       "    </tr>\n",
       "    <tr>\n",
       "      <th>24</th>\n",
       "      <td>000192544082F43C1047289FCDC47A90</td>\n",
       "      <td>350111198311184718</td>\n",
       "      <td>不按规定投保机车第三者强制责任险</td>\n",
       "    </tr>\n",
       "    <tr>\n",
       "      <th>25</th>\n",
       "      <td>0001986AD78DB90FE110C2032E663736</td>\n",
       "      <td>350628198104293510</td>\n",
       "      <td>二轮摩托车载人超员</td>\n",
       "    </tr>\n",
       "    <tr>\n",
       "      <th>26</th>\n",
       "      <td>0001A9D4724FE813A88FEBD27C84814B</td>\n",
       "      <td>330324198504053318</td>\n",
       "      <td>汽车在道路上违反规定停放且驾驶人不在现场，妨碍其他车辆、行人通行的</td>\n",
       "    </tr>\n",
       "    <tr>\n",
       "      <th>27</th>\n",
       "      <td>0001B20442E6E819780474AF60A763F8</td>\n",
       "      <td>350824198207240062</td>\n",
       "      <td>非机动车未在非机动车道内行驶</td>\n",
       "    </tr>\n",
       "    <tr>\n",
       "      <th>28</th>\n",
       "      <td>0001B4ABDF6C43AB052285D727EF4A33</td>\n",
       "      <td>350103196308230171</td>\n",
       "      <td>机动车违反禁令标志指示的</td>\n",
       "    </tr>\n",
       "    <tr>\n",
       "      <th>29</th>\n",
       "      <td>0001B8AB4CA264D437EE93FD3EDCB7AA</td>\n",
       "      <td>352128196809163017</td>\n",
       "      <td>机动车驾驶人违反指示标志、标线通行</td>\n",
       "    </tr>\n",
       "    <tr>\n",
       "      <th>30</th>\n",
       "      <td>0001C053428709582BFF30DA57FA8351</td>\n",
       "      <td>350126196603056350</td>\n",
       "      <td>机动车违反禁令标志指示的</td>\n",
       "    </tr>\n",
       "    <tr>\n",
       "      <th>31</th>\n",
       "      <td>0001D027AA6286BE04FEC11C53C60630</td>\n",
       "      <td>350111197509265017</td>\n",
       "      <td>机动车违反规定使用专用车道</td>\n",
       "    </tr>\n",
       "    <tr>\n",
       "      <th>32</th>\n",
       "      <td>0001EF947712B87859D558F49EB5845A</td>\n",
       "      <td>350127197505014414</td>\n",
       "      <td>汽车在道路上违反规定停放且驾驶人不在现场，妨碍其他车辆、行人通行的</td>\n",
       "    </tr>\n",
       "    <tr>\n",
       "      <th>33</th>\n",
       "      <td>0001EFC8E7A3340CD5EBE8E94F6A53DA</td>\n",
       "      <td>350121198601056717</td>\n",
       "      <td>汽车在道路上违反规定停放且驾驶人不在现场，妨碍其他车辆、行人通行的</td>\n",
       "    </tr>\n",
       "    <tr>\n",
       "      <th>34</th>\n",
       "      <td>0001F06BCCF7A5355280A35ED7DAB67C</td>\n",
       "      <td>432823197410272714</td>\n",
       "      <td>非机动车未在非机动车道内行驶</td>\n",
       "    </tr>\n",
       "    <tr>\n",
       "      <th>35</th>\n",
       "      <td>0001F7B4671F8D373E4B7BC8C7212124</td>\n",
       "      <td>19581212</td>\n",
       "      <td>行人违反交通信号通行</td>\n",
       "    </tr>\n",
       "    <tr>\n",
       "      <th>36</th>\n",
       "      <td>00022C4FCE929EDCEAC6F68898A9A676</td>\n",
       "      <td>352203199403296313</td>\n",
       "      <td>非机动车未在非机动车道内行驶</td>\n",
       "    </tr>\n",
       "    <tr>\n",
       "      <th>37</th>\n",
       "      <td>00022F6ED7123FEA062F08950B1211FF</td>\n",
       "      <td>无</td>\n",
       "      <td>非机动车未在非机动车道内行驶</td>\n",
       "    </tr>\n",
       "    <tr>\n",
       "      <th>38</th>\n",
       "      <td>0002304352C76A38C953F4BEF6254546</td>\n",
       "      <td>513029198707301977</td>\n",
       "      <td>汽车在道路上违反规定停放且驾驶人不在现场，妨碍其他车辆、行人通行的</td>\n",
       "    </tr>\n",
       "    <tr>\n",
       "      <th>39</th>\n",
       "      <td>000234F6C408FAA14F055E039954E7EB</td>\n",
       "      <td>01012396</td>\n",
       "      <td>机动车逆向行驶</td>\n",
       "    </tr>\n",
       "    <tr>\n",
       "      <th>40</th>\n",
       "      <td>00023AF689CE8507DCBCDED1728ECCD6</td>\n",
       "      <td>522101196907115643</td>\n",
       "      <td>行人违反交通信号通行</td>\n",
       "    </tr>\n",
       "    <tr>\n",
       "      <th>41</th>\n",
       "      <td>00023ED2578F2AD46A56CBFC908E7A1D</td>\n",
       "      <td>350122197405156114</td>\n",
       "      <td>实行登记的非机动车违反规定载人的</td>\n",
       "    </tr>\n",
       "    <tr>\n",
       "      <th>42</th>\n",
       "      <td>0002480850B237D987285E3F911D602A</td>\n",
       "      <td>513030198504156437</td>\n",
       "      <td>驾驶机动车违反道路交通信号灯通行的</td>\n",
       "    </tr>\n",
       "    <tr>\n",
       "      <th>43</th>\n",
       "      <td>0002487D9F10D813BB91DD0AE2F8724C</td>\n",
       "      <td>350725199206203011</td>\n",
       "      <td>非机动车未在非机动车道内行驶</td>\n",
       "    </tr>\n",
       "    <tr>\n",
       "      <th>44</th>\n",
       "      <td>00027879298759FDE43837A8E4EBC27E</td>\n",
       "      <td>350104198210282219</td>\n",
       "      <td>遇前方机动车停车排队等候或者缓慢行驶时，在人行横道、网状线区域内停车等候</td>\n",
       "    </tr>\n",
       "    <tr>\n",
       "      <th>45</th>\n",
       "      <td>000281881BB84B70AF4CCB6F4FC1BE85</td>\n",
       "      <td>350121198909106717</td>\n",
       "      <td>机动车违反禁令标志指示的</td>\n",
       "    </tr>\n",
       "    <tr>\n",
       "      <th>46</th>\n",
       "      <td>0002898C6DEC3A5D50BD3449FC3A549A</td>\n",
       "      <td>350322197302236235</td>\n",
       "      <td>机动车通过有灯控路口时，不按所需行进方向驶入导向车道</td>\n",
       "    </tr>\n",
       "    <tr>\n",
       "      <th>47</th>\n",
       "      <td>00029D9680EA507D32983CAEB2DCE0E2</td>\n",
       "      <td>350102196301230738</td>\n",
       "      <td>汽车在道路上违反规定停放且驾驶人不在现场，妨碍其他车辆、行人通行的</td>\n",
       "    </tr>\n",
       "    <tr>\n",
       "      <th>48</th>\n",
       "      <td>0002AB96B697AF818D6D7806AF4822D5</td>\n",
       "      <td>350128198801102022</td>\n",
       "      <td>汽车在道路上违反规定停放且驾驶人不在现场，妨碍其他车辆、行人通行的</td>\n",
       "    </tr>\n",
       "    <tr>\n",
       "      <th>49</th>\n",
       "      <td>0002AC91D62122157C65A00D30153E79</td>\n",
       "      <td>350102197704160855</td>\n",
       "      <td>汽车在道路上违反规定停放且驾驶人不在现场，妨碍其他车辆、行人通行的</td>\n",
       "    </tr>\n",
       "  </tbody>\n",
       "</table>\n",
       "</div>"
      ],
      "text/plain": [
       "                                  ID                JSZH  \\\n",
       "0   0000348969E67364B1B617DC8C27175B  350111197001230411   \n",
       "1   00003DD66542E4FFBED40D44BE3149EA  350303199208311016   \n",
       "2   000059588C9529CFD4E22CFC7FE741AD  350111197012110597   \n",
       "3   000062455B2719AAEBE31CBE64E69B2B  230281199910290928   \n",
       "4   0000682BA564A316898B4525A0309A37  360735199109121932   \n",
       "5   00007DFE12DD217EDC96BB6E537B9132  350783198204040238   \n",
       "6   00008D3E2101403076815E3D0AB5B769  612301196810020421   \n",
       "7   0000A0D68F07258DADE746E06EBFAA5D  513030199905184257   \n",
       "8   0000AB4664458105D777E57FC4F9CD43  350121198710274238   \n",
       "9   0000B0D821BB03CE1E934FD7967C7C04  513030197306013713   \n",
       "10  0000CB0256AAB619609D21D5F84BFC69                   无   \n",
       "11  0000D09C548DFA212FA2075381EF8DE8  420222198801201034   \n",
       "12  0000E62136EEDF21AEACDF63347370EA  350102197306030406   \n",
       "13  0000F8618F153D18E374A6F89E987197  350784198805273711   \n",
       "14  000103CC6D3E4A58D0665C076628584A  440184198110034510   \n",
       "15  00012AB82D581EC42F759742BBC4371C  341222198712268756   \n",
       "16  0001343DE62459EEF41BC6A96BF610EF  350111196912140447   \n",
       "17  000135E9E3266DBFC93952942F26FEBB  610102196812030336   \n",
       "18  0001393E08139833B7DBA9587CC4304C  350182197712182618   \n",
       "19  00014DBCB6201E00D78B2C0FF291FBA1  35012219761202371X   \n",
       "20  000150DA20229F9F92F29F9612B30C37  350121198806104217   \n",
       "21  000185A7463DA83EB36B0501B56F8AF5  350102195302250330   \n",
       "22  0001880165B8622B8AB0E8FDC6A24C81  350128199409264312   \n",
       "23  00018BA0E38088FDF2271FD96687B568  352227198702143559   \n",
       "24  000192544082F43C1047289FCDC47A90  350111198311184718   \n",
       "25  0001986AD78DB90FE110C2032E663736  350628198104293510   \n",
       "26  0001A9D4724FE813A88FEBD27C84814B  330324198504053318   \n",
       "27  0001B20442E6E819780474AF60A763F8  350824198207240062   \n",
       "28  0001B4ABDF6C43AB052285D727EF4A33  350103196308230171   \n",
       "29  0001B8AB4CA264D437EE93FD3EDCB7AA  352128196809163017   \n",
       "30  0001C053428709582BFF30DA57FA8351  350126196603056350   \n",
       "31  0001D027AA6286BE04FEC11C53C60630  350111197509265017   \n",
       "32  0001EF947712B87859D558F49EB5845A  350127197505014414   \n",
       "33  0001EFC8E7A3340CD5EBE8E94F6A53DA  350121198601056717   \n",
       "34  0001F06BCCF7A5355280A35ED7DAB67C  432823197410272714   \n",
       "35  0001F7B4671F8D373E4B7BC8C7212124            19581212   \n",
       "36  00022C4FCE929EDCEAC6F68898A9A676  352203199403296313   \n",
       "37  00022F6ED7123FEA062F08950B1211FF                   无   \n",
       "38  0002304352C76A38C953F4BEF6254546  513029198707301977   \n",
       "39  000234F6C408FAA14F055E039954E7EB            01012396   \n",
       "40  00023AF689CE8507DCBCDED1728ECCD6  522101196907115643   \n",
       "41  00023ED2578F2AD46A56CBFC908E7A1D  350122197405156114   \n",
       "42  0002480850B237D987285E3F911D602A  513030198504156437   \n",
       "43  0002487D9F10D813BB91DD0AE2F8724C  350725199206203011   \n",
       "44  00027879298759FDE43837A8E4EBC27E  350104198210282219   \n",
       "45  000281881BB84B70AF4CCB6F4FC1BE85  350121198909106717   \n",
       "46  0002898C6DEC3A5D50BD3449FC3A549A  350322197302236235   \n",
       "47  00029D9680EA507D32983CAEB2DCE0E2  350102196301230738   \n",
       "48  0002AB96B697AF818D6D7806AF4822D5  350128198801102022   \n",
       "49  0002AC91D62122157C65A00D30153E79  350102197704160855   \n",
       "\n",
       "                                    WFNR  \n",
       "0     在高速公路或城市快速路以外的道路上行驶时，驾驶人未按规定使用安全带的  \n",
       "1                         非机动车未在非机动车道内行驶  \n",
       "2                           机动车违反禁令标志指示的  \n",
       "3                       实行登记的非机动车违反规定载人的  \n",
       "4                         非机动车未在非机动车道内行驶  \n",
       "5      汽车在道路上违反规定停放且驾驶人不在现场，妨碍其他车辆、行人通行的  \n",
       "6                           机动车违反禁令标志指示的  \n",
       "7            实行登记的非机动车未悬挂或者未按规定悬挂非机动车号牌的  \n",
       "8      汽车在道路上违反规定停放且驾驶人不在现场，妨碍其他车辆、行人通行的  \n",
       "9                         非机动车未在非机动车道内行驶  \n",
       "10                            行人违反交通信号通行  \n",
       "11    在高速公路或城市快速路以外的道路上行驶时，驾驶人未按规定使用安全带的  \n",
       "12                         机动车违反规定使用专用车道  \n",
       "13                        非机动车未在非机动车道内行驶  \n",
       "14                     机动车驾驶人违反指示标志、标线通行  \n",
       "15                      实行登记的非机动车违反规定载人的  \n",
       "16                            行人违反交通信号通行  \n",
       "17            机动车通过有灯控路口时，不按所需行进方向驶入导向车道  \n",
       "18     汽车在道路上违反规定停放且驾驶人不在现场，妨碍其他车辆、行人通行的  \n",
       "19                     驾驶机动车违反道路交通信号灯通行的  \n",
       "20                     机动车驾驶人违反指示标志、标线通行  \n",
       "21     汽车在道路上违反规定停放且驾驶人不在现场，妨碍其他车辆、行人通行的  \n",
       "22                        非机动车未在非机动车道内行驶  \n",
       "23     汽车在道路上违反规定停放且驾驶人不在现场，妨碍其他车辆、行人通行的  \n",
       "24                      不按规定投保机车第三者强制责任险  \n",
       "25                             二轮摩托车载人超员  \n",
       "26     汽车在道路上违反规定停放且驾驶人不在现场，妨碍其他车辆、行人通行的  \n",
       "27                        非机动车未在非机动车道内行驶  \n",
       "28                          机动车违反禁令标志指示的  \n",
       "29                     机动车驾驶人违反指示标志、标线通行  \n",
       "30                          机动车违反禁令标志指示的  \n",
       "31                         机动车违反规定使用专用车道  \n",
       "32     汽车在道路上违反规定停放且驾驶人不在现场，妨碍其他车辆、行人通行的  \n",
       "33     汽车在道路上违反规定停放且驾驶人不在现场，妨碍其他车辆、行人通行的  \n",
       "34                        非机动车未在非机动车道内行驶  \n",
       "35                            行人违反交通信号通行  \n",
       "36                        非机动车未在非机动车道内行驶  \n",
       "37                        非机动车未在非机动车道内行驶  \n",
       "38     汽车在道路上违反规定停放且驾驶人不在现场，妨碍其他车辆、行人通行的  \n",
       "39                               机动车逆向行驶  \n",
       "40                            行人违反交通信号通行  \n",
       "41                      实行登记的非机动车违反规定载人的  \n",
       "42                     驾驶机动车违反道路交通信号灯通行的  \n",
       "43                        非机动车未在非机动车道内行驶  \n",
       "44  遇前方机动车停车排队等候或者缓慢行驶时，在人行横道、网状线区域内停车等候  \n",
       "45                          机动车违反禁令标志指示的  \n",
       "46            机动车通过有灯控路口时，不按所需行进方向驶入导向车道  \n",
       "47     汽车在道路上违反规定停放且驾驶人不在现场，妨碍其他车辆、行人通行的  \n",
       "48     汽车在道路上违反规定停放且驾驶人不在现场，妨碍其他车辆、行人通行的  \n",
       "49     汽车在道路上违反规定停放且驾驶人不在现场，妨碍其他车辆、行人通行的  "
      ]
     },
     "execution_count": 22,
     "metadata": {},
     "output_type": "execute_result"
    }
   ],
   "source": [
    "data[['ID','JSZH','WFNR']][:50]"
   ]
  },
  {
   "cell_type": "code",
   "execution_count": 23,
   "metadata": {},
   "outputs": [
    {
     "data": {
      "text/plain": [
       "Index(['ID', 'JSZH', 'WFDZ', 'WFNR', 'CLSJ', 'JKBJ', 'WFSJ', 'WFBH', 'weekday',\n",
       "       'year', 'quarter', 'hour', 'month', 'day'],\n",
       "      dtype='object')"
      ]
     },
     "execution_count": 23,
     "metadata": {},
     "output_type": "execute_result"
    }
   ],
   "source": [
    "data.columns"
   ]
  },
  {
   "cell_type": "code",
   "execution_count": 24,
   "metadata": {},
   "outputs": [
    {
     "data": {
      "text/html": [
       "<div>\n",
       "<style scoped>\n",
       "    .dataframe tbody tr th:only-of-type {\n",
       "        vertical-align: middle;\n",
       "    }\n",
       "\n",
       "    .dataframe tbody tr th {\n",
       "        vertical-align: top;\n",
       "    }\n",
       "\n",
       "    .dataframe thead th {\n",
       "        text-align: right;\n",
       "    }\n",
       "</style>\n",
       "<table border=\"1\" class=\"dataframe\">\n",
       "  <thead>\n",
       "    <tr style=\"text-align: right;\">\n",
       "      <th></th>\n",
       "      <th>JSZH</th>\n",
       "      <th>WFNR</th>\n",
       "    </tr>\n",
       "  </thead>\n",
       "  <tbody>\n",
       "    <tr>\n",
       "      <th>7</th>\n",
       "      <td>513030199905184257</td>\n",
       "      <td>实行登记的非机动车未悬挂或者未按规定悬挂非机动车号牌的</td>\n",
       "    </tr>\n",
       "    <tr>\n",
       "      <th>8</th>\n",
       "      <td>350121198710274238</td>\n",
       "      <td>汽车在道路上违反规定停放且驾驶人不在现场，妨碍其他车辆、行人通行的</td>\n",
       "    </tr>\n",
       "    <tr>\n",
       "      <th>9</th>\n",
       "      <td>513030197306013713</td>\n",
       "      <td>非机动车未在非机动车道内行驶</td>\n",
       "    </tr>\n",
       "    <tr>\n",
       "      <th>10</th>\n",
       "      <td>无</td>\n",
       "      <td>行人违反交通信号通行</td>\n",
       "    </tr>\n",
       "    <tr>\n",
       "      <th>11</th>\n",
       "      <td>420222198801201034</td>\n",
       "      <td>在高速公路或城市快速路以外的道路上行驶时，驾驶人未按规定使用安全带的</td>\n",
       "    </tr>\n",
       "    <tr>\n",
       "      <th>12</th>\n",
       "      <td>350102197306030406</td>\n",
       "      <td>机动车违反规定使用专用车道</td>\n",
       "    </tr>\n",
       "    <tr>\n",
       "      <th>13</th>\n",
       "      <td>350784198805273711</td>\n",
       "      <td>非机动车未在非机动车道内行驶</td>\n",
       "    </tr>\n",
       "    <tr>\n",
       "      <th>14</th>\n",
       "      <td>440184198110034510</td>\n",
       "      <td>机动车驾驶人违反指示标志、标线通行</td>\n",
       "    </tr>\n",
       "    <tr>\n",
       "      <th>15</th>\n",
       "      <td>341222198712268756</td>\n",
       "      <td>实行登记的非机动车违反规定载人的</td>\n",
       "    </tr>\n",
       "  </tbody>\n",
       "</table>\n",
       "</div>"
      ],
      "text/plain": [
       "                  JSZH                                WFNR\n",
       "7   513030199905184257         实行登记的非机动车未悬挂或者未按规定悬挂非机动车号牌的\n",
       "8   350121198710274238   汽车在道路上违反规定停放且驾驶人不在现场，妨碍其他车辆、行人通行的\n",
       "9   513030197306013713                      非机动车未在非机动车道内行驶\n",
       "10                   无                          行人违反交通信号通行\n",
       "11  420222198801201034  在高速公路或城市快速路以外的道路上行驶时，驾驶人未按规定使用安全带的\n",
       "12  350102197306030406                       机动车违反规定使用专用车道\n",
       "13  350784198805273711                      非机动车未在非机动车道内行驶\n",
       "14  440184198110034510                   机动车驾驶人违反指示标志、标线通行\n",
       "15  341222198712268756                    实行登记的非机动车违反规定载人的"
      ]
     },
     "execution_count": 24,
     "metadata": {},
     "output_type": "execute_result"
    }
   ],
   "source": [
    "data.loc[7:15,['JSZH','WFNR']]"
   ]
  },
  {
   "cell_type": "code",
   "execution_count": 25,
   "metadata": {},
   "outputs": [
    {
     "data": {
      "text/html": [
       "<div>\n",
       "<style scoped>\n",
       "    .dataframe tbody tr th:only-of-type {\n",
       "        vertical-align: middle;\n",
       "    }\n",
       "\n",
       "    .dataframe tbody tr th {\n",
       "        vertical-align: top;\n",
       "    }\n",
       "\n",
       "    .dataframe thead th {\n",
       "        text-align: right;\n",
       "    }\n",
       "</style>\n",
       "<table border=\"1\" class=\"dataframe\">\n",
       "  <thead>\n",
       "    <tr style=\"text-align: right;\">\n",
       "      <th></th>\n",
       "      <th>JSZH</th>\n",
       "      <th>WFNR</th>\n",
       "    </tr>\n",
       "  </thead>\n",
       "  <tbody>\n",
       "    <tr>\n",
       "      <th>7</th>\n",
       "      <td>513030199905184257</td>\n",
       "      <td>实行登记的非机动车未悬挂或者未按规定悬挂非机动车号牌的</td>\n",
       "    </tr>\n",
       "    <tr>\n",
       "      <th>15</th>\n",
       "      <td>341222198712268756</td>\n",
       "      <td>实行登记的非机动车违反规定载人的</td>\n",
       "    </tr>\n",
       "  </tbody>\n",
       "</table>\n",
       "</div>"
      ],
      "text/plain": [
       "                  JSZH                         WFNR\n",
       "7   513030199905184257  实行登记的非机动车未悬挂或者未按规定悬挂非机动车号牌的\n",
       "15  341222198712268756             实行登记的非机动车违反规定载人的"
      ]
     },
     "execution_count": 25,
     "metadata": {},
     "output_type": "execute_result"
    }
   ],
   "source": [
    "data.loc[[7,15],['JSZH','WFNR']]"
   ]
  },
  {
   "cell_type": "code",
   "execution_count": 26,
   "metadata": {},
   "outputs": [],
   "source": [
    "#loc可以写条件\n",
    "data_1=data.loc[data['WFNR']=='驾驶机动车违反道路交通信号灯通行的',['WFNR','hour','month']]#筛选满足条件的所有行和列"
   ]
  },
  {
   "cell_type": "code",
   "execution_count": 27,
   "metadata": {},
   "outputs": [
    {
     "data": {
      "text/plain": [
       "14    2730\n",
       "15    2552\n",
       "13    2464\n",
       "16    2388\n",
       "11    2370\n",
       "10    2369\n",
       "12    2352\n",
       "9     2294\n",
       "17    2043\n",
       "8     1954\n",
       "18    1836\n",
       "19    1563\n",
       "7     1517\n",
       "21    1480\n",
       "20    1449\n",
       "22    1265\n",
       "23    1046\n",
       "6      968\n",
       "0      675\n",
       "1      579\n",
       "5      507\n",
       "2      411\n",
       "3      334\n",
       "4      279\n",
       "Name: hour, dtype: int64"
      ]
     },
     "execution_count": 27,
     "metadata": {},
     "output_type": "execute_result"
    }
   ],
   "source": [
    "data_1['hour'].value_counts()#这里阙歌图"
   ]
  },
  {
   "cell_type": "code",
   "execution_count": 29,
   "metadata": {},
   "outputs": [
    {
     "data": {
      "text/plain": [
       "<matplotlib.axes._subplots.AxesSubplot at 0xd2d0070>"
      ]
     },
     "execution_count": 29,
     "metadata": {},
     "output_type": "execute_result"
    },
    {
     "data": {
      "image/png": "[encoded data removed]",
      "text/plain": [
       "<Figure size 432x288 with 1 Axes>"
      ]
     },
     "metadata": {
      "needs_background": "light"
     },
     "output_type": "display_data"
    }
   ],
   "source": [
    "data_1['hour'].value_counts().plot.bar()"
   ]
  },
  {
   "cell_type": "code",
   "execution_count": null,
   "metadata": {},
   "outputs": [],
   "source": [
    "data.iloc[[3],5:8]#按照位置选取"
   ]
  },
  {
   "cell_type": "code",
   "execution_count": null,
   "metadata": {},
   "outputs": [],
   "source": [
    "data.iloc[0:2]  data.loc[0:2] #loc 取得是标签，iloc是按照位置来取，loc会比他多一行"
   ]
  },
  {
   "cell_type": "code",
   "execution_count": null,
   "metadata": {},
   "outputs": [],
   "source": [
    "# data.loc[0:2]"
   ]
  },
  {
   "cell_type": "code",
   "execution_count": null,
   "metadata": {},
   "outputs": [],
   "source": [
    "data['hour'].value_counts()"
   ]
  },
  {
   "cell_type": "code",
   "execution_count": null,
   "metadata": {},
   "outputs": [],
   "source": [
    "#条件查询"
   ]
  },
  {
   "cell_type": "code",
   "execution_count": null,
   "metadata": {},
   "outputs": [],
   "source": [
    "data[['JSZH','hour','WFNR']][(data['hour']==9)&(data['JSZH']=='350303199208311016')]"
   ]
  },
  {
   "cell_type": "code",
   "execution_count": null,
   "metadata": {},
   "outputs": [],
   "source": [
    "data[['JSZH','hour','WFNR']][data['hour'].between(9,10,inclusive=True)]"
   ]
  },
  {
   "cell_type": "code",
   "execution_count": null,
   "metadata": {},
   "outputs": [],
   "source": [
    "data[['JSZH','hour','WFNR']][data['JSZH'].isin(['无'])]"
   ]
  },
  {
   "cell_type": "code",
   "execution_count": null,
   "metadata": {},
   "outputs": [],
   "source": [
    "data_2=data[~data['JSZH'].isin(['无'])]\n"
   ]
  },
  {
   "cell_type": "code",
   "execution_count": null,
   "metadata": {},
   "outputs": [],
   "source": []
  },
  {
   "cell_type": "code",
   "execution_count": null,
   "metadata": {},
   "outputs": [],
   "source": [
    "list_=[]\n",
    "for x in data_2['JSZH'].values:\n",
    "    if len(x)>8:\n",
    "        list_.append(str(x[6:10]))\n",
    "    else:\n",
    "        list_.append(str(x[0:4]))"
   ]
  },
  {
   "cell_type": "code",
   "execution_count": null,
   "metadata": {},
   "outputs": [],
   "source": [
    "'62(0' in list_"
   ]
  },
  {
   "cell_type": "code",
   "execution_count": null,
   "metadata": {},
   "outputs": [],
   "source": [
    "list_[28287]='0'"
   ]
  },
  {
   "cell_type": "code",
   "execution_count": null,
   "metadata": {},
   "outputs": [],
   "source": []
  },
  {
   "cell_type": "code",
   "execution_count": null,
   "metadata": {},
   "outputs": [],
   "source": [
    "data_2.loc[[28288],['JSZH']]"
   ]
  },
  {
   "cell_type": "code",
   "execution_count": null,
   "metadata": {},
   "outputs": [],
   "source": [
    "data.rename(columns={'JSZH':'indety'},inplace=True)"
   ]
  },
  {
   "cell_type": "code",
   "execution_count": null,
   "metadata": {},
   "outputs": [],
   "source": [
    "data"
   ]
  },
  {
   "cell_type": "code",
   "execution_count": null,
   "metadata": {},
   "outputs": [],
   "source": [
    "s = 'adfatggfa43 534k/009r=-93 46456w554xgtrghji876rzsra'"
   ]
  },
  {
   "cell_type": "code",
   "execution_count": null,
   "metadata": {},
   "outputs": [],
   "source": [
    "import re"
   ]
  },
  {
   "cell_type": "code",
   "execution_count": null,
   "metadata": {},
   "outputs": [],
   "source": [
    "re.findall('t',s)\n"
   ]
  },
  {
   "cell_type": "code",
   "execution_count": null,
   "metadata": {},
   "outputs": [],
   "source": [
    "re.findall('t..',s)\n"
   ]
  },
  {
   "cell_type": "code",
   "execution_count": null,
   "metadata": {},
   "outputs": [],
   "source": [
    "re.findall(' *(3[0-9][a-z])',s)#只要括号里面的，括号外面如果有空格的话可以删,*前面表示可以有空格也可以没有，也可以有很多的空格"
   ]
  },
  {
   "cell_type": "code",
   "execution_count": null,
   "metadata": {},
   "outputs": [],
   "source": [
    "re.findall(' *(3[0-9][a-z])|(a[0-9][a-z])',s)"
   ]
  },
  {
   "cell_type": "code",
   "execution_count": null,
   "metadata": {},
   "outputs": [],
   "source": [
    "list_1=data['indety'].values"
   ]
  },
  {
   "cell_type": "code",
   "execution_count": null,
   "metadata": {},
   "outputs": [],
   "source": [
    "re.findall('\\d+',s)#  +表示至少有一个数字，\\d表示有一个数字"
   ]
  },
  {
   "cell_type": "code",
   "execution_count": null,
   "metadata": {},
   "outputs": [],
   "source": [
    "re.findall('\\d{2}',s)#表示匹配几个"
   ]
  },
  {
   "cell_type": "code",
   "execution_count": null,
   "metadata": {},
   "outputs": [],
   "source": [
    "for i in list_1:\n",
    "    rusult=re.findall('[0-9]\\([0-9]',i)"
   ]
  },
  {
   "cell_type": "code",
   "execution_count": null,
   "metadata": {
    "scrolled": true
   },
   "outputs": [],
   "source": [
    "data_2.shape"
   ]
  },
  {
   "cell_type": "code",
   "execution_count": null,
   "metadata": {},
   "outputs": [],
   "source": [
    "data_2['indety']=data['indety'].str.findall('[0-9]+',flags=re.IGNORECASE)"
   ]
  },
  {
   "cell_type": "code",
   "execution_count": null,
   "metadata": {},
   "outputs": [],
   "source": [
    "data_2['indety']"
   ]
  },
  {
   "cell_type": "code",
   "execution_count": null,
   "metadata": {},
   "outputs": [],
   "source": [
    "data_3=data[~data['indety'].isin(['无'])]"
   ]
  },
  {
   "cell_type": "code",
   "execution_count": null,
   "metadata": {},
   "outputs": [],
   "source": [
    "data_3.shape"
   ]
  },
  {
   "cell_type": "code",
   "execution_count": null,
   "metadata": {},
   "outputs": [],
   "source": [
    "data_3['JSZH']=data_3['indety'].str.findall('[0-9]+')"
   ]
  },
  {
   "cell_type": "code",
   "execution_count": null,
   "metadata": {},
   "outputs": [],
   "source": [
    "# data_3.drop(['Indetity','JSZH1'],axis=1,inplace=True)"
   ]
  },
  {
   "cell_type": "code",
   "execution_count": null,
   "metadata": {},
   "outputs": [],
   "source": []
  },
  {
   "cell_type": "code",
   "execution_count": null,
   "metadata": {},
   "outputs": [],
   "source": [
    "tianqi = pd.read_csv(r\"F:\\h\\kaggle\\福州2017年天气.csv\",encoding= 'gb18030')"
   ]
  },
  {
   "cell_type": "code",
   "execution_count": null,
   "metadata": {},
   "outputs": [],
   "source": [
    "tianqi.head()"
   ]
  },
  {
   "cell_type": "code",
   "execution_count": null,
   "metadata": {},
   "outputs": [],
   "source": [
    "tianqi['日期'] = pd.to_datetime(tianqi['日期'],format='%Y-%m-%d ')\n",
    "tianqi[\"year\"]=tianqi[\"日期\"].dt.year\n",
    "tianqi[\"month\"]=tianqi[\"日期\"].dt.month\n",
    "tianqi[\"day\"]=tianqi[\"日期\"].dt.day\n"
   ]
  },
  {
   "cell_type": "code",
   "execution_count": null,
   "metadata": {},
   "outputs": [],
   "source": []
  },
  {
   "cell_type": "code",
   "execution_count": null,
   "metadata": {},
   "outputs": [],
   "source": []
  },
  {
   "cell_type": "code",
   "execution_count": null,
   "metadata": {},
   "outputs": [],
   "source": [
    "# df = pd.merge(data,tianqi,left_on=['month','day'],right_on=['month','day'],how='left')"
   ]
  },
  {
   "cell_type": "code",
   "execution_count": null,
   "metadata": {},
   "outputs": [],
   "source": []
  }
 ],
 "metadata": {
  "kernelspec": {
   "display_name": "Python 3",
   "language": "python",
   "name": "python3"
  },
  "language_info": {
   "codemirror_mode": {
    "name": "ipython",
    "version": 3
   },
   "file_extension": ".py",
   "mimetype": "text/x-python",
   "name": "python",
   "nbconvert_exporter": "python",
   "pygments_lexer": "ipython3",
   "version": "3.7.4"
  }
 },
 "nbformat": 4,
 "nbformat_minor": 2
}
