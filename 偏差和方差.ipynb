{
 "cells": [
  {
   "cell_type": "code",
   "execution_count": 110,
   "metadata": {},
   "outputs": [],
   "source": [
    "import numpy as np\n",
    "import pandas as pd\n",
    "import matplotlib.pyplot as plt\n",
    "import scipy.io as sio\n",
    "from scipy.optimize import minimize\n",
    "from sklearn.metrics import classification_report#这个包是评价报告"
   ]
  },
  {
   "cell_type": "code",
   "execution_count": 111,
   "metadata": {},
   "outputs": [],
   "source": [
    "data=sio.loadmat(\"F:\\h\\吴恩达\\ex5data1.mat\")"
   ]
  },
  {
   "cell_type": "code",
   "execution_count": 112,
   "metadata": {},
   "outputs": [
    {
     "data": {
      "text/plain": [
       "dict_keys(['__header__', '__version__', '__globals__', 'X', 'y', 'Xtest', 'ytest', 'Xval', 'yval'])"
      ]
     },
     "execution_count": 112,
     "metadata": {},
     "output_type": "execute_result"
    }
   ],
   "source": [
    "data.keys()"
   ]
  },
  {
   "cell_type": "code",
   "execution_count": 113,
   "metadata": {},
   "outputs": [
    {
     "data": {
      "text/plain": [
       "(12, 1)"
      ]
     },
     "execution_count": 113,
     "metadata": {},
     "output_type": "execute_result"
    }
   ],
   "source": [
    "X_train=data['X']\n",
    "data['X'].shape"
   ]
  },
  {
   "cell_type": "code",
   "execution_count": 114,
   "metadata": {},
   "outputs": [
    {
     "data": {
      "text/plain": [
       "(12, 1)"
      ]
     },
     "execution_count": 114,
     "metadata": {},
     "output_type": "execute_result"
    }
   ],
   "source": [
    "y_train=data['y']\n",
    "data['y'].shape"
   ]
  },
  {
   "cell_type": "code",
   "execution_count": 115,
   "metadata": {},
   "outputs": [
    {
     "data": {
      "text/plain": [
       "(21, 1)"
      ]
     },
     "execution_count": 115,
     "metadata": {},
     "output_type": "execute_result"
    }
   ],
   "source": [
    "X_test=data['Xtest']\n",
    "data['Xtest'].shape"
   ]
  },
  {
   "cell_type": "code",
   "execution_count": 116,
   "metadata": {},
   "outputs": [
    {
     "data": {
      "text/plain": [
       "(21, 1)"
      ]
     },
     "execution_count": 116,
     "metadata": {},
     "output_type": "execute_result"
    }
   ],
   "source": [
    "y_test=data['ytest']\n",
    "data['ytest'].shape"
   ]
  },
  {
   "cell_type": "code",
   "execution_count": 117,
   "metadata": {},
   "outputs": [
    {
     "data": {
      "text/plain": [
       "(21, 1)"
      ]
     },
     "execution_count": 117,
     "metadata": {},
     "output_type": "execute_result"
    }
   ],
   "source": [
    "X_val=data['Xval']\n",
    "data['Xval'].shape"
   ]
  },
  {
   "cell_type": "code",
   "execution_count": 118,
   "metadata": {},
   "outputs": [
    {
     "data": {
      "text/plain": [
       "(21, 1)"
      ]
     },
     "execution_count": 118,
     "metadata": {},
     "output_type": "execute_result"
    }
   ],
   "source": [
    "y_val=data['yval']\n",
    "data['yval'].shape"
   ]
  },
  {
   "cell_type": "code",
   "execution_count": 119,
   "metadata": {},
   "outputs": [],
   "source": [
    "X_train=np.insert(X_train,0,1,axis=1)\n",
    "X_val=np.insert(X_val,0,1,axis=1)\n",
    "X_test=np.insert(X_test,0,1,axis=1)"
   ]
  },
  {
   "cell_type": "code",
   "execution_count": 120,
   "metadata": {},
   "outputs": [],
   "source": [
    "def plotdraw():\n",
    "    fig,ax=plt.subplots()\n",
    "    ax.scatter(X_train[:,1],y_train,marker='x')\n",
    "    ax.set(xlabel=\"lavel\", ylabel=\"water flowing\")\n",
    "    "
   ]
  },
  {
   "cell_type": "code",
   "execution_count": 121,
   "metadata": {},
   "outputs": [
    {
     "data": {
      "image/png": "[encoded data removed]",
      "text/plain": [
       "<Figure size 432x288 with 1 Axes>"
      ]
     },
     "metadata": {
      "needs_background": "light"
     },
     "output_type": "display_data"
    }
   ],
   "source": [
    "plotdraw()"
   ]
  },
  {
   "cell_type": "code",
   "execution_count": null,
   "metadata": {},
   "outputs": [],
   "source": []
  },
  {
   "cell_type": "code",
   "execution_count": 122,
   "metadata": {},
   "outputs": [],
   "source": [
    "def reg_cost(theta,X,y,lamda):\n",
    "    cost=np.sum(np.power((X@theta-y.flatten()),2))\n",
    "    reg=theta[1:]@theta[1:]*lamda\n",
    "    return (cost+reg)/(2*len(X))"
   ]
  },
  {
   "cell_type": "code",
   "execution_count": 123,
   "metadata": {},
   "outputs": [
    {
     "data": {
      "text/plain": [
       "303.9931922202643"
      ]
     },
     "execution_count": 123,
     "metadata": {},
     "output_type": "execute_result"
    }
   ],
   "source": [
    "theta=np.ones(X_train.shape[1])\n",
    "lamda=1\n",
    "reg_cost(theta,X_train,y_train,lamda)\n"
   ]
  },
  {
   "cell_type": "code",
   "execution_count": 124,
   "metadata": {},
   "outputs": [],
   "source": [
    "def reg_grade(theta,X,y,lamda):\n",
    "    grad=(X@theta-y.flatten())@X\n",
    "    reg=lamda*theta\n",
    "    reg[0]=0\n",
    "    return (grad+reg)/(len(X))"
   ]
  },
  {
   "cell_type": "code",
   "execution_count": 125,
   "metadata": {},
   "outputs": [
    {
     "data": {
      "text/plain": [
       "array([-15.30301567, 598.25074417])"
      ]
     },
     "execution_count": 125,
     "metadata": {},
     "output_type": "execute_result"
    }
   ],
   "source": [
    "\n",
    "reg_grade(theta,X_train,y_train,lamda)"
   ]
  },
  {
   "cell_type": "code",
   "execution_count": 126,
   "metadata": {},
   "outputs": [],
   "source": [
    "def training_model(X,y,lamda):\n",
    "    theta=np.ones(X.shape[1])\n",
    "    res=minimize(fun=reg_cost,x0=theta,args=(X,y,lamda),method='TNC',jac=reg_grade)\n",
    "    return res.x"
   ]
  },
  {
   "cell_type": "code",
   "execution_count": 127,
   "metadata": {},
   "outputs": [
    {
     "data": {
      "text/plain": [
       "array([ 7.22669531,  2.36604366, 26.3976684 , 26.87675187, -4.58713543,\n",
       "        9.79942144, 18.7177923 ,  0.32366018, 13.59880611, -3.23552115,\n",
       "       15.6673244 , 21.45957031])"
      ]
     },
     "execution_count": 127,
     "metadata": {},
     "output_type": "execute_result"
    }
   ],
   "source": [
    "final_theta=training_model(X_train,y_train,lamda=0)#保证上述的theta的位置在参数的第一个位置\n",
    "final_theta.shape\n",
    "X_train@final_theta"
   ]
  },
  {
   "cell_type": "code",
   "execution_count": 128,
   "metadata": {},
   "outputs": [
    {
     "data": {
      "image/png": "[encoded data removed]",
      "text/plain": [
       "<Figure size 432x288 with 1 Axes>"
      ]
     },
     "metadata": {
      "needs_background": "light"
     },
     "output_type": "display_data"
    }
   ],
   "source": [
    "# plotdraw(X_train,y_train)\n",
    "# fig,ax=plt.subplots()\n",
    "\n",
    "# ax.scatter(data['X'],data['y'],c='r',marker='x')\n",
    "# ax.set(xlabel=\"lavel\", ylabel=\"water flowing\")\n",
    "plotdraw()\n",
    "plt.plot(X_train[:,1],X_train@final_theta,c='r')\n",
    "plt.show()"
   ]
  },
  {
   "cell_type": "code",
   "execution_count": null,
   "metadata": {},
   "outputs": [],
   "source": []
  },
  {
   "cell_type": "code",
   "execution_count": 129,
   "metadata": {},
   "outputs": [
    {
     "data": {
      "text/plain": [
       "(21, 2)"
      ]
     },
     "execution_count": 129,
     "metadata": {},
     "output_type": "execute_result"
    }
   ],
   "source": [
    "X_val.shape"
   ]
  },
  {
   "cell_type": "markdown",
   "metadata": {},
   "source": [
    "训练样本从1开始递增，比较训练 样本和测试样本上损失函数的变化情况"
   ]
  },
  {
   "cell_type": "code",
   "execution_count": 134,
   "metadata": {},
   "outputs": [],
   "source": [
    "#把测试集和训练集损失函数的值计算出来\n",
    "def plot_curve(X_train,y_train,X_val,y_val,lamda):\n",
    "    training_cost=[]\n",
    "    cv_cost=[]\n",
    "    x=range(1,len(X_train)+1)\n",
    "\n",
    "    for i in x :\n",
    "        res=training_model(X_train[:i,:],y_train[:i,:],lamda)\n",
    "        training_cost_i= reg_cost(res,X_train[:i,:],y_train[:i,:],lamda)\n",
    "        cv_cost_i= reg_cost(res,X_val,y_val,lamda)\n",
    "        training_cost.append(training_cost_i)\n",
    "        cv_cost.append(cv_cost_i)\n",
    "    plt.plot(x,training_cost,label=\"training cost\")\n",
    "    plt.plot(x,cv_cost,label=\"cv cost\")\n",
    "    plt.legend()\n",
    "    plt.xlabel(\"number of examples\")\n",
    "    plt.ylabel(\"error\")\n",
    "    plt.show()       \n",
    "\n",
    "\n",
    "            \n",
    "            \n",
    "    \n",
    "    "
   ]
  },
  {
   "cell_type": "code",
   "execution_count": null,
   "metadata": {},
   "outputs": [],
   "source": []
  },
  {
   "cell_type": "code",
   "execution_count": 135,
   "metadata": {},
   "outputs": [
    {
     "data": {
      "image/png": "[encoded data removed]",
      "text/plain": [
       "<Figure size 432x288 with 1 Axes>"
      ]
     },
     "metadata": {
      "needs_background": "light"
     },
     "output_type": "display_data"
    }
   ],
   "source": [
    "plot_curve(X_train,y_train,X_val,y_val,lamda=0)"
   ]
  },
  {
   "cell_type": "markdown",
   "metadata": {},
   "source": [
    "hθ(x) = θ0 + θ1 ∗ (waterLevel) + θ2 ∗ (waterLevel)2 + · · · + θp ∗ (waterLevel)p = θ0 + θ1x1 + θ2x2 + ... + θpxp.\n",
    "高偏差：引入相关特征，采用多项式特征，减少正则化参数lamda"
   ]
  },
  {
   "cell_type": "markdown",
   "metadata": {},
   "source": [
    "高方差（过拟合）采集更多的样本数据，减少多项式特征，去除非主要的特征，增大正则化参数lamda"
   ]
  },
  {
   "cell_type": "code",
   "execution_count": null,
   "metadata": {},
   "outputs": [],
   "source": [
    "#在此处  采用多项式特征"
   ]
  },
  {
   "cell_type": "code",
   "execution_count": 138,
   "metadata": {},
   "outputs": [],
   "source": [
    "def plot_feature(X,power):\n",
    "    for i in range(2,power+1):\n",
    "        X=np.insert(X,X.shape[1],np.power(X[:,1],i),axis=1)\n",
    "    return X\n",
    "        "
   ]
  },
  {
   "cell_type": "code",
   "execution_count": 139,
   "metadata": {},
   "outputs": [
    {
     "data": {
      "text/plain": [
       "(12, 2)"
      ]
     },
     "execution_count": 139,
     "metadata": {},
     "output_type": "execute_result"
    }
   ],
   "source": [
    "#对归一化处理,标椎化处理\n",
    "X_train.shape"
   ]
  },
  {
   "cell_type": "code",
   "execution_count": 140,
   "metadata": {},
   "outputs": [],
   "source": [
    "def get_mean_std(X):\n",
    "    means=np.mean(X,axis=0)\n",
    "    stds=np.std(X,axis=0)\n",
    "    return means,stds"
   ]
  },
  {
   "cell_type": "code",
   "execution_count": 141,
   "metadata": {},
   "outputs": [],
   "source": [
    "def feature_moralization(X,means,stds):\n",
    "    X[:,1:]=(X[:,1:]-means[1:])/stds[1:]\n",
    "    return X"
   ]
  },
  {
   "cell_type": "code",
   "execution_count": 142,
   "metadata": {},
   "outputs": [],
   "source": [
    "power=6"
   ]
  },
  {
   "cell_type": "code",
   "execution_count": 143,
   "metadata": {},
   "outputs": [],
   "source": [
    "X_train_plo=plot_feature(X_train,power)\n",
    "X_val_plo=plot_feature(X_val,power)\n",
    "X_test_plo=plot_feature(X_test,power)"
   ]
  },
  {
   "cell_type": "code",
   "execution_count": 157,
   "metadata": {},
   "outputs": [],
   "source": [
    "train_means,train_stds=get_mean_std(X_train_plo) \n",
    "val_means,val_stds=get_mean_std(X_val_plo)\n",
    "test_means,test_stds=get_mean_std(X_test_plo)"
   ]
  },
  {
   "cell_type": "code",
   "execution_count": 158,
   "metadata": {},
   "outputs": [],
   "source": [
    "X_train_morm=feature_moralization(X_train_plo,train_means,train_stds)\n",
    "X_val_morm=feature_moralization(X_val_plo,val_means,val_stds)\n",
    "X_test_morm=feature_moralization(X_test_plo,test_means,test_stds)"
   ]
  },
  {
   "cell_type": "code",
   "execution_count": 146,
   "metadata": {},
   "outputs": [],
   "source": [
    "theta_fit=training_model(X_train_morm,y_train,lamda=0)"
   ]
  },
  {
   "cell_type": "code",
   "execution_count": 147,
   "metadata": {},
   "outputs": [
    {
     "data": {
      "text/plain": [
       "array([ 11.21759257,  10.88482541,  12.85770051,  10.2965293 ,\n",
       "        -4.18366197, -11.4275422 ,  -4.92081021])"
      ]
     },
     "execution_count": 147,
     "metadata": {},
     "output_type": "execute_result"
    }
   ],
   "source": [
    "theta_fit"
   ]
  },
  {
   "cell_type": "code",
   "execution_count": 148,
   "metadata": {},
   "outputs": [],
   "source": [
    "def plot_data():\n",
    "    fig,ax=plt.subplots()\n",
    "    ax.scatter(X_train[:,1],y_train)\n",
    "    ax.set(xlabel=\"change in water level\",ylabel=\"water flowing\")"
   ]
  },
  {
   "cell_type": "code",
   "execution_count": 149,
   "metadata": {},
   "outputs": [],
   "source": [
    "def plot_fit():\n",
    "#     plotdraw(X_train,y_train)\n",
    "    plot_data()\n",
    "    x=np.linspace(-60,60,100)\n",
    "    xx=x.reshape(100,1)\n",
    "    xx=np.insert(xx,0,1,axis=1)\n",
    "    xx=plot_feature(xx,power)\n",
    "    xx=feature_moralization(xx,train_means,train_stds)\n",
    "   \n",
    "    plt.plot(x,xx@theta_fit,'r--',label='xian')\n",
    "    plt.legend()\n",
    "    plt.show()"
   ]
  },
  {
   "cell_type": "code",
   "execution_count": 150,
   "metadata": {},
   "outputs": [
    {
     "data": {
      "image/png": "[encoded data removed]",
      "text/plain": [
       "<Figure size 432x288 with 1 Axes>"
      ]
     },
     "metadata": {
      "needs_background": "light"
     },
     "output_type": "display_data"
    }
   ],
   "source": [
    "plot_fit()"
   ]
  },
  {
   "cell_type": "code",
   "execution_count": 153,
   "metadata": {},
   "outputs": [
    {
     "data": {
      "image/png": "[encoded data removed]",
      "text/plain": [
       "<Figure size 432x288 with 1 Axes>"
      ]
     },
     "metadata": {
      "needs_background": "light"
     },
     "output_type": "display_data"
    }
   ],
   "source": [
    "plot_curve(X_train_morm,y_train,X_val_morm,y_val,lamda=0)"
   ]
  },
  {
   "cell_type": "code",
   "execution_count": 154,
   "metadata": {},
   "outputs": [],
   "source": [
    "#上面发生了过拟合"
   ]
  },
  {
   "cell_type": "code",
   "execution_count": 155,
   "metadata": {},
   "outputs": [
    {
     "data": {
      "image/png": "[encoded data removed]",
      "text/plain": [
       "<Figure size 432x288 with 1 Axes>"
      ]
     },
     "metadata": {
      "needs_background": "light"
     },
     "output_type": "display_data"
    }
   ],
   "source": [
    "plot_curve(X_train_morm,y_train,X_val_morm,y_val,lamda=1)"
   ]
  },
  {
   "cell_type": "code",
   "execution_count": 156,
   "metadata": {},
   "outputs": [
    {
     "data": {
      "image/png": "[encoded data removed]",
      "text/plain": [
       "<Figure size 432x288 with 1 Axes>"
      ]
     },
     "metadata": {
      "needs_background": "light"
     },
     "output_type": "display_data"
    }
   ],
   "source": [
    "plot_curve(X_train_morm,y_train,X_val_morm,y_val,lamda=100)"
   ]
  },
  {
   "cell_type": "code",
   "execution_count": 159,
   "metadata": {},
   "outputs": [],
   "source": [
    "lamdas=[0,0.001,0.003,0.01,0.03,0.1,0.3,1,3,10]\n",
    "trainming_cost=[]\n",
    "cv_cost=[]\n",
    "for lamda in lamdas:\n",
    "    res=training_model(X_train_morm,y_train,lamda)\n",
    "    tc=reg_cost(res,X_train_morm,y_train,lamda)\n",
    "    cv=reg_cost(res,X_val_morm,y_val,lamda)\n",
    "    trainming_cost.append(tc)\n",
    "    cv_cost.append(cv)"
   ]
  },
  {
   "cell_type": "code",
   "execution_count": 160,
   "metadata": {},
   "outputs": [
    {
     "data": {
      "image/png": "[encoded data removed]",
      "text/plain": [
       "<Figure size 432x288 with 1 Axes>"
      ]
     },
     "metadata": {
      "needs_background": "light"
     },
     "output_type": "display_data"
    }
   ],
   "source": [
    "plt.plot(lamdas,trainming_cost,label=\"training cost\")\n",
    "plt.plot(lamdas,cv_cost,label=\"cv cost\")\n",
    "plt.show()"
   ]
  },
  {
   "cell_type": "code",
   "execution_count": 161,
   "metadata": {},
   "outputs": [
    {
     "data": {
      "text/plain": [
       "0.3"
      ]
     },
     "execution_count": 161,
     "metadata": {},
     "output_type": "execute_result"
    }
   ],
   "source": [
    "lamdas[np.argmin(cv_cost)]"
   ]
  },
  {
   "cell_type": "code",
   "execution_count": 163,
   "metadata": {},
   "outputs": [],
   "source": [
    "res=training_model(X_test_morm,y_test,lamda=0.3)\n",
    "test_cost=reg_cost(res,X_test_morm,y_test,lamda=0)\n"
   ]
  },
  {
   "cell_type": "code",
   "execution_count": 164,
   "metadata": {},
   "outputs": [
    {
     "data": {
      "text/plain": [
       "1.9242097411311287"
      ]
     },
     "execution_count": 164,
     "metadata": {},
     "output_type": "execute_result"
    }
   ],
   "source": [
    "test_cost"
   ]
  },
  {
   "cell_type": "code",
   "execution_count": null,
   "metadata": {},
   "outputs": [],
   "source": []
  }
 ],
 "metadata": {
  "kernelspec": {
   "display_name": "Python 3",
   "language": "python",
   "name": "python3"
  },
  "language_info": {
   "codemirror_mode": {
    "name": "ipython",
    "version": 3
   },
   "file_extension": ".py",
   "mimetype": "text/x-python",
   "name": "python",
   "nbconvert_exporter": "python",
   "pygments_lexer": "ipython3",
   "version": "3.7.4"
  }
 },
 "nbformat": 4,
 "nbformat_minor": 2
}
