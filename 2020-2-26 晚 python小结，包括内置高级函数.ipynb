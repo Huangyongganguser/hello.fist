{
 "cells": [
  {
   "cell_type": "code",
   "execution_count": 1,
   "metadata": {},
   "outputs": [],
   "source": [
    "import pandas as pd\n",
    "import numpy as np"
   ]
  },
  {
   "cell_type": "markdown",
   "metadata": {},
   "source": [
    "输出格式的用法"
   ]
  },
  {
   "cell_type": "code",
   "execution_count": 18,
   "metadata": {},
   "outputs": [
    {
     "name": "stdout",
     "output_type": "stream",
     "text": [
      "我爱这\t前爱的\n",
      "我今年40岁了\n",
      "我爱这\b前爱的\n",
      "我今年40岁了\n",
      "我出差一个月，一共花费了1.556e+01\n",
      "我出差一个月，一共花费了15.556%\n",
      "我出差一个月，一共花费了15.556\n",
      "我今年30岁了，出差一个月，一共花费了2000.00\n",
      "我今年30岁了，出差一个月，一共花费了2000.000\n"
     ]
    }
   ],
   "source": [
    "print(\"我爱这\\t前爱的\") #、t空格符\n",
    "print(\"我今年%s岁了\" %40)#格式化字符\n",
    "print(\"我爱这\\b前爱的\")#\\b表示退格\n",
    "print(\"我今年%d岁了\" %40.4332)#转为整型\n",
    "print(\"我出差一个月，一共花费了%.3e\" %15.55566)#写成科学计数法\n",
    "print(\"我出差一个月，一共花费了%.3f%%\" %15.55566)#以百分号形式输出\n",
    "print(\"我出差一个月，一共花费了%.3f\" %15.55566)#保留三位小数\n",
    "print(\"我今年{}岁了，出差一个月，一共花费了{:.2f}\" .format(30,2000)) \n",
    "print(\"我今年%d岁了，出差一个月，一共花费了%.3f\" %(30,2000))#若有汉字，加引号"
   ]
  },
  {
   "cell_type": "markdown",
   "metadata": {},
   "source": [
    "字符串的操作："
   ]
  },
  {
   "cell_type": "code",
   "execution_count": 19,
   "metadata": {},
   "outputs": [
    {
     "name": "stdout",
     "output_type": "stream",
     "text": [
      "qwer\n",
      "---------------------------------------\n"
     ]
    },
    {
     "data": {
      "text/plain": [
       "4"
      ]
     },
     "execution_count": 19,
     "metadata": {},
     "output_type": "execute_result"
    }
   ],
   "source": [
    "characters = ['q','w','e','r']\n",
    "world = \"\".join(characters) #连接字符串\n",
    "print(world)\n",
    "print('---------------------------------------')\n",
    "s='bjafbajsnfamfamfa1265152654265 '\n",
    "s.find('152')#查找字符串所在的位置\n",
    "s.upper()    #大写\n",
    "\" \".join(characters).replace(\" \",\",\") #替换字符串\n",
    "s.strip()#去掉首尾的空格\n",
    "s.isdigit() #检查是否是数字\n",
    "s.startswith('45')#startswith 是否以某字符开始\n",
    "s.endswith(\"66\")\n",
    "s.count('5') #统计个数\n",
    "\n",
    "\n"
   ]
  },
  {
   "cell_type": "markdown",
   "metadata": {},
   "source": [
    "高级函数的用法,lambda , 列表推导，enumerate ，zip"
   ]
  },
  {
   "cell_type": "code",
   "execution_count": 24,
   "metadata": {},
   "outputs": [],
   "source": [
    "g = lambda x : x**2\n",
    "f1 = lambda x : 'A'if x==1 else 'B'\n",
    "f2 = lambda x,y,z : x+2*y+z"
   ]
  },
  {
   "cell_type": "code",
   "execution_count": 25,
   "metadata": {},
   "outputs": [
    {
     "data": {
      "text/plain": [
       "('A', 8)"
      ]
     },
     "execution_count": 25,
     "metadata": {},
     "output_type": "execute_result"
    }
   ],
   "source": [
    "f1(1),f2(1,2,3)"
   ]
  },
  {
   "cell_type": "markdown",
   "metadata": {},
   "source": [
    "列表推导"
   ]
  },
  {
   "cell_type": "code",
   "execution_count": 5,
   "metadata": {},
   "outputs": [],
   "source": [
    "m = [x**2 for x in range(5)]"
   ]
  },
  {
   "cell_type": "code",
   "execution_count": 7,
   "metadata": {},
   "outputs": [],
   "source": [
    "#使用列表推导,假设需要从两个列表找出相同的数字\n",
    "list_a = [1,2,3,45,6,7,8,9]\n",
    "list_b = [5,6,8,9,7,2,1]\n",
    "num = [a for a in list_a  for b in list_b if a==b]"
   ]
  },
  {
   "cell_type": "markdown",
   "metadata": {},
   "source": [
    "使用enumerate()进行迭代，enumerate 可为迭代对象添加一个计数器，并且以枚举的对象的形式返回\n",
    "编写程序：\n",
    "打印列表中的数字，如果是3的倍数则输出\"fizz\",如果是5的倍数，则输出'buzz',如果同时是3和5的倍数则输出\"fizzbuzz\""
   ]
  },
  {
   "cell_type": "code",
   "execution_count": 28,
   "metadata": {},
   "outputs": [
    {
     "name": "stdout",
     "output_type": "stream",
     "text": [
      "1 这\n",
      "2 是\n",
      "3 一个\n",
      "4 测试\n",
      "测试\n"
     ]
    }
   ],
   "source": [
    "list1 = [\"这\", \"是\", \"一个\", \"测试\"]\n",
    "for index, item in enumerate(list1, 1): #1代表指定起始位置为1\n",
    "    print (index, item)\n",
    "print(item)"
   ]
  },
  {
   "cell_type": "code",
   "execution_count": 29,
   "metadata": {},
   "outputs": [
    {
     "name": "stdout",
     "output_type": "stream",
     "text": [
      "['fizz', 'fizz', 28, 'buzz', 'fizz']\n"
     ]
    }
   ],
   "source": [
    "numbers = [30,42,28,50,15]\n",
    "for i ,num in enumerate(numbers):\n",
    "    if num % 3 ==0:\n",
    "        numbers[i] = \"fizz\"\n",
    "    elif num % 5 == 0:\n",
    "        numbers[i] = 'buzz'\n",
    "    elif num % 3 ==0 and num % 5 == 0:\n",
    "        numbers[i] = \"fizzbuzz\"\n",
    "print(numbers)\n",
    "        "
   ]
  },
  {
   "cell_type": "code",
   "execution_count": 30,
   "metadata": {},
   "outputs": [],
   "source": [
    "# 统计文件行数\n",
    "# count = 0\n",
    "# for index, line in enumerate(open(filepath,'r'))： \n",
    "#     count += 1"
   ]
  },
  {
   "cell_type": "markdown",
   "metadata": {},
   "source": [
    "使用zip函数，打包"
   ]
  },
  {
   "cell_type": "code",
   "execution_count": 31,
   "metadata": {},
   "outputs": [],
   "source": [
    "a = [1,2,3]\n",
    "b = [4,5,6]\n",
    "c = [4,5,6,7,8]\n",
    "zipped = zip(a,b)     # 打包为元组的列表\n",
    "# [(1, 4), (2, 5), (3, 6)]\n",
    "zip(a,c)              # 元素个数与最短的列表一致\n",
    "# [(1, 4), (2, 5), (3, 6)]\n",
    "zip(*zipped)          # 与 zip 相反，*zipped 可理解为解压，返回二维矩阵式\n",
    "# [(1, 2, 3), (4, 5, 6)]"
   ]
  },
  {
   "cell_type": "code",
   "execution_count": 38,
   "metadata": {},
   "outputs": [
    {
     "data": {
      "text/plain": [
       "[('huang', 4), ('lan', 5), ('zhang', 6)]"
      ]
     },
     "execution_count": 38,
     "metadata": {},
     "output_type": "execute_result"
    }
   ],
   "source": [
    "a = ['huang','lan','zhang']\n",
    "b = [4,5,6]\n",
    "list(zip(a,b))"
   ]
  },
  {
   "cell_type": "markdown",
   "metadata": {},
   "source": [
    "可将两个列表转化为字典"
   ]
  },
  {
   "cell_type": "code",
   "execution_count": 39,
   "metadata": {},
   "outputs": [
    {
     "data": {
      "text/plain": [
       "{'huang': 4, 'lan': 5, 'zhang': 6}"
      ]
     },
     "execution_count": 39,
     "metadata": {},
     "output_type": "execute_result"
    }
   ],
   "source": [
    "a = ['huang','lan','zhang']\n",
    "b = [4,5,6]\n",
    "dict(zip(a,b))"
   ]
  },
  {
   "cell_type": "code",
   "execution_count": null,
   "metadata": {},
   "outputs": [],
   "source": []
  },
  {
   "cell_type": "markdown",
   "metadata": {},
   "source": [
    "排序sorted 可以对所有可迭代的对象进行排序操作。\n",
    "sorted(iterable, cmp=None, key=None, reverse=False)\n",
    "iterable -- 可迭代对象。\n",
    "cmp -- 比较的函数，这个具有两个参数，参数的值都是从可迭代对象中取出，此函数必须遵守的规则为，大于则返回1，小于则返回-1，等于则返回0。\n",
    "key -- 主要是用来进行比较的元素，只有一个参数，具体的函数的参数就是取自于可迭代对象中，指定可迭代对象中的一个元素来进行排序。\n",
    "reverse -- 排序规则，reverse = True 降序 ， reverse = False 升序（默认）。"
   ]
  },
  {
   "cell_type": "code",
   "execution_count": 42,
   "metadata": {},
   "outputs": [
    {
     "data": {
      "text/plain": [
       "[4.5, 3.5, 1.2]"
      ]
     },
     "execution_count": 42,
     "metadata": {},
     "output_type": "execute_result"
    }
   ],
   "source": [
    "sorted([1.2,3.5,4.5],reverse=True)#降序排列，默认为升序排列"
   ]
  },
  {
   "cell_type": "code",
   "execution_count": 45,
   "metadata": {},
   "outputs": [
    {
     "data": {
      "text/plain": [
       "['dfas', 'dsfaasd', 'dafads', 'gasdf']"
      ]
     },
     "execution_count": 45,
     "metadata": {},
     "output_type": "execute_result"
    }
   ],
   "source": [
    "s=['gasdf','dsfaasd','dfas','dafads']\n",
    "sorted(['gasdf','dsfaasd','dfas','dafads'])\n",
    "sorted(s, key=lambda s: s[2])            # 按指定的位置排序"
   ]
  },
  {
   "cell_type": "code",
   "execution_count": 46,
   "metadata": {},
   "outputs": [
    {
     "data": {
      "text/plain": [
       "[('dave', 'B', 10), ('jane', 'B', 12), ('john', 'A', 15)]"
      ]
     },
     "execution_count": 46,
     "metadata": {},
     "output_type": "execute_result"
    }
   ],
   "source": [
    "students = [('john', 'A', 15), ('jane', 'B', 12), ('dave', 'B', 10)]\n",
    "sorted(students, key=lambda s: s[2])            # 按年龄排序"
   ]
  },
  {
   "cell_type": "markdown",
   "metadata": {},
   "source": [
    "isinstance 函数 判断类型"
   ]
  },
  {
   "cell_type": "code",
   "execution_count": 47,
   "metadata": {},
   "outputs": [
    {
     "data": {
      "text/plain": [
       "[1, 2, 4334]"
      ]
     },
     "execution_count": 47,
     "metadata": {},
     "output_type": "execute_result"
    }
   ],
   "source": [
    "items=[1,2,4334,'sh']\n",
    "list(filter(lambda x : 1 if isinstance(x ,int) else 0 ,items))\n",
    "# def int_n(x):                 #对上述表达式解释\n",
    "#     if isinstance(x,int):\n",
    "#         return True\n",
    "#     else:\n",
    "#         return False"
   ]
  },
  {
   "cell_type": "markdown",
   "metadata": {},
   "source": [
    "map()是 Python 内置的高阶函数，它接收一个函数 f 和一个 list，并通过把函数 f 依次作用在 list 的每个元素上，得到一个新的 list 并返回。"
   ]
  },
  {
   "cell_type": "code",
   "execution_count": 50,
   "metadata": {},
   "outputs": [
    {
     "name": "stdout",
     "output_type": "stream",
     "text": [
      "<map object at 0x0CF0B7B0>\n",
      "(1, 2)\n",
      "(4, 4)\n",
      "(27, 6)\n"
     ]
    }
   ],
   "source": [
    "#把一天的时间分段\n",
    "def hour_cut(x):\n",
    "    if 0<=x<6:\n",
    "        return 0\n",
    "    elif  6<=x<8:\n",
    "        return 1\n",
    "    elif  8<=x<12:\n",
    "        return 2\n",
    "    elif  12<=x<14:\n",
    "        return 3\n",
    "    elif  14<=x<18:\n",
    "        return 4\n",
    "    elif  18<=x<21:\n",
    "        return 5\n",
    "    elif  21<=x<24:\n",
    "        return 6\n",
    "\n",
    "    \n",
    "# df[\"hour_cut\"]=df[\"hour\"].map(hour_cut)\n",
    "\n",
    "\n",
    "def f(x):\n",
    "    return x*x\n",
    "print(map(f, [1, 2, 3, 4, 5, 6, 7, 8, 9]))\n",
    "\n",
    "l3=map(lambda x,y:(x**y,x+y),[1,2,3],[1,2,3])#我可以看出数据在并行计算\n",
    "for i in l3:\n",
    "    print(i)\n"
   ]
  },
  {
   "cell_type": "markdown",
   "metadata": {},
   "source": [
    "reduce(f,items)智能对两个参数操作，累加"
   ]
  },
  {
   "cell_type": "code",
   "execution_count": 51,
   "metadata": {},
   "outputs": [],
   "source": [
    "from functools import reduce\n",
    "def f(x,y):\n",
    "    return x+y\n",
    "items=[1,2,3,4,56,7,8,9,10]\n",
    "result = reduce(f,items)"
   ]
  },
  {
   "cell_type": "code",
   "execution_count": 56,
   "metadata": {},
   "outputs": [],
   "source": [
    "import datetime"
   ]
  },
  {
   "cell_type": "code",
   "execution_count": 57,
   "metadata": {},
   "outputs": [
    {
     "name": "stderr",
     "output_type": "stream",
     "text": [
      "c:\\users\\administrator\\appdata\\local\\programs\\python\\python37-32\\lib\\site-packages\\ipykernel_launcher.py:1: DeprecationWarning: time.clock has been deprecated in Python 3.3 and will be removed from Python 3.8: use time.perf_counter or time.process_time instead\n",
      "  \"\"\"Entry point for launching an IPython kernel.\n"
     ]
    },
    {
     "data": {
      "text/plain": [
       "6887.136615766"
      ]
     },
     "execution_count": 57,
     "metadata": {},
     "output_type": "execute_result"
    }
   ],
   "source": [
    "time.clock()"
   ]
  },
  {
   "cell_type": "code",
   "execution_count": 60,
   "metadata": {},
   "outputs": [
    {
     "data": {
      "text/plain": [
       "Counter({'a': 2, 'b': 1})"
      ]
     },
     "execution_count": 60,
     "metadata": {},
     "output_type": "execute_result"
    }
   ],
   "source": [
    "#counter 计数函数\n",
    "from collections import Counter\n",
    "counts = ['a','a','b']\n",
    "Counter(counts)"
   ]
  },
  {
   "cell_type": "code",
   "execution_count": null,
   "metadata": {},
   "outputs": [],
   "source": []
  }
 ],
 "metadata": {
  "kernelspec": {
   "display_name": "Python 3",
   "language": "python",
   "name": "python3"
  },
  "language_info": {
   "codemirror_mode": {
    "name": "ipython",
    "version": 3
   },
   "file_extension": ".py",
   "mimetype": "text/x-python",
   "name": "python",
   "nbconvert_exporter": "python",
   "pygments_lexer": "ipython3",
   "version": "3.7.4"
  }
 },
 "nbformat": 4,
 "nbformat_minor": 2
}
